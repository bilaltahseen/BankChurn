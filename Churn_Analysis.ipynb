{
 "cells": [
  {
   "cell_type": "markdown",
   "metadata": {},
   "source": [
    "# Bank Chrun Analysis Model Using Scikit-Learn"
   ]
  },
  {
   "cell_type": "markdown",
   "metadata": {},
   "source": [
    "## Importing Required Modules"
   ]
  },
  {
   "cell_type": "code",
   "execution_count": 2,
   "metadata": {},
   "outputs": [
    {
     "name": "stderr",
     "output_type": "stream",
     "text": [
      "g:\\programs\\python\\python37\\lib\\importlib\\_bootstrap.py:219: RuntimeWarning: numpy.ufunc size changed, may indicate binary incompatibility. Expected 192 from C header, got 216 from PyObject\n",
      "  return f(*args, **kwds)\n",
      "g:\\programs\\python\\python37\\lib\\importlib\\_bootstrap.py:219: RuntimeWarning: numpy.ufunc size changed, may indicate binary incompatibility. Expected 192 from C header, got 216 from PyObject\n",
      "  return f(*args, **kwds)\n",
      "g:\\programs\\python\\python37\\lib\\importlib\\_bootstrap.py:219: RuntimeWarning: numpy.ufunc size changed, may indicate binary incompatibility. Expected 192 from C header, got 216 from PyObject\n",
      "  return f(*args, **kwds)\n"
     ]
    }
   ],
   "source": [
    "import pandas as pd\n",
    "import numpy as np\n",
    "import seaborn as ses\n",
    "import matplotlib.pyplot as plt\n",
    "from sklearn.model_selection import train_test_split,learning_curve\n",
    "from sklearn.preprocessing import StandardScaler,normalize\n",
    "from sklearn import preprocessing\n",
    "from sklearn.metrics import confusion_matrix,classification_report,accuracy_score,log_loss,balanced_accuracy_score\n",
    "from sklearn.model_selection import validation_curve,learning_curve\n",
    "from sklearn import tree\n",
    "from sklearn.tree import DecisionTreeClassifier\n",
    "from sklearn.tree import export_graphviz\n",
    "from sklearn.neural_network import MLPClassifier\n",
    "import graphviz\n",
    "from sklearn.ensemble import RandomForestClassifier\n",
    "from sklearn.externals.six import StringIO  \n",
    "from IPython.display import Image,Markdown,display\n",
    "import pydot\n",
    "import random\n",
    "from subprocess import call\n",
    "import scikitplot as skplt\n",
    "import sys\n",
    "import cgi\n",
    "from time import sleep\n",
    "%matplotlib inline"
   ]
  },
  {
   "cell_type": "markdown",
   "metadata": {},
   "source": [
    "# Preprocessing"
   ]
  },
  {
   "cell_type": "markdown",
   "metadata": {},
   "source": [
    "## Getting information from CSV file"
   ]
  },
  {
   "cell_type": "code",
   "execution_count": 3,
   "metadata": {},
   "outputs": [
    {
     "data": {
      "text/html": [
       "<div>\n",
       "<style scoped>\n",
       "    .dataframe tbody tr th:only-of-type {\n",
       "        vertical-align: middle;\n",
       "    }\n",
       "\n",
       "    .dataframe tbody tr th {\n",
       "        vertical-align: top;\n",
       "    }\n",
       "\n",
       "    .dataframe thead th {\n",
       "        text-align: right;\n",
       "    }\n",
       "</style>\n",
       "<table border=\"1\" class=\"dataframe\">\n",
       "  <thead>\n",
       "    <tr style=\"text-align: right;\">\n",
       "      <th></th>\n",
       "      <th>RowNumber</th>\n",
       "      <th>CustomerId</th>\n",
       "      <th>Surname</th>\n",
       "      <th>CreditScore</th>\n",
       "      <th>Geography</th>\n",
       "      <th>Gender</th>\n",
       "      <th>Age</th>\n",
       "      <th>Tenure</th>\n",
       "      <th>Balance</th>\n",
       "      <th>NumOfProducts</th>\n",
       "      <th>HasCrCard</th>\n",
       "      <th>IsActiveMember</th>\n",
       "      <th>EstimatedSalary</th>\n",
       "      <th>Exited</th>\n",
       "    </tr>\n",
       "  </thead>\n",
       "  <tbody>\n",
       "    <tr>\n",
       "      <td>0</td>\n",
       "      <td>1</td>\n",
       "      <td>15634602</td>\n",
       "      <td>Hargrave</td>\n",
       "      <td>619</td>\n",
       "      <td>France</td>\n",
       "      <td>Female</td>\n",
       "      <td>42</td>\n",
       "      <td>2</td>\n",
       "      <td>0.00</td>\n",
       "      <td>1</td>\n",
       "      <td>1</td>\n",
       "      <td>1</td>\n",
       "      <td>101348.88</td>\n",
       "      <td>1</td>\n",
       "    </tr>\n",
       "    <tr>\n",
       "      <td>1</td>\n",
       "      <td>2</td>\n",
       "      <td>15647311</td>\n",
       "      <td>Hill</td>\n",
       "      <td>608</td>\n",
       "      <td>Spain</td>\n",
       "      <td>Female</td>\n",
       "      <td>41</td>\n",
       "      <td>1</td>\n",
       "      <td>83807.86</td>\n",
       "      <td>1</td>\n",
       "      <td>0</td>\n",
       "      <td>1</td>\n",
       "      <td>112542.58</td>\n",
       "      <td>0</td>\n",
       "    </tr>\n",
       "    <tr>\n",
       "      <td>2</td>\n",
       "      <td>3</td>\n",
       "      <td>15619304</td>\n",
       "      <td>Onio</td>\n",
       "      <td>502</td>\n",
       "      <td>France</td>\n",
       "      <td>Female</td>\n",
       "      <td>42</td>\n",
       "      <td>8</td>\n",
       "      <td>159660.80</td>\n",
       "      <td>3</td>\n",
       "      <td>1</td>\n",
       "      <td>0</td>\n",
       "      <td>113931.57</td>\n",
       "      <td>1</td>\n",
       "    </tr>\n",
       "    <tr>\n",
       "      <td>3</td>\n",
       "      <td>4</td>\n",
       "      <td>15701354</td>\n",
       "      <td>Boni</td>\n",
       "      <td>699</td>\n",
       "      <td>France</td>\n",
       "      <td>Female</td>\n",
       "      <td>39</td>\n",
       "      <td>1</td>\n",
       "      <td>0.00</td>\n",
       "      <td>2</td>\n",
       "      <td>0</td>\n",
       "      <td>0</td>\n",
       "      <td>93826.63</td>\n",
       "      <td>0</td>\n",
       "    </tr>\n",
       "    <tr>\n",
       "      <td>4</td>\n",
       "      <td>5</td>\n",
       "      <td>15737888</td>\n",
       "      <td>Mitchell</td>\n",
       "      <td>850</td>\n",
       "      <td>Spain</td>\n",
       "      <td>Female</td>\n",
       "      <td>43</td>\n",
       "      <td>2</td>\n",
       "      <td>125510.82</td>\n",
       "      <td>1</td>\n",
       "      <td>1</td>\n",
       "      <td>1</td>\n",
       "      <td>79084.10</td>\n",
       "      <td>0</td>\n",
       "    </tr>\n",
       "    <tr>\n",
       "      <td>...</td>\n",
       "      <td>...</td>\n",
       "      <td>...</td>\n",
       "      <td>...</td>\n",
       "      <td>...</td>\n",
       "      <td>...</td>\n",
       "      <td>...</td>\n",
       "      <td>...</td>\n",
       "      <td>...</td>\n",
       "      <td>...</td>\n",
       "      <td>...</td>\n",
       "      <td>...</td>\n",
       "      <td>...</td>\n",
       "      <td>...</td>\n",
       "      <td>...</td>\n",
       "    </tr>\n",
       "    <tr>\n",
       "      <td>9995</td>\n",
       "      <td>9996</td>\n",
       "      <td>15606229</td>\n",
       "      <td>Obijiaku</td>\n",
       "      <td>771</td>\n",
       "      <td>France</td>\n",
       "      <td>Male</td>\n",
       "      <td>39</td>\n",
       "      <td>5</td>\n",
       "      <td>0.00</td>\n",
       "      <td>2</td>\n",
       "      <td>1</td>\n",
       "      <td>0</td>\n",
       "      <td>96270.64</td>\n",
       "      <td>0</td>\n",
       "    </tr>\n",
       "    <tr>\n",
       "      <td>9996</td>\n",
       "      <td>9997</td>\n",
       "      <td>15569892</td>\n",
       "      <td>Johnstone</td>\n",
       "      <td>516</td>\n",
       "      <td>France</td>\n",
       "      <td>Male</td>\n",
       "      <td>35</td>\n",
       "      <td>10</td>\n",
       "      <td>57369.61</td>\n",
       "      <td>1</td>\n",
       "      <td>1</td>\n",
       "      <td>1</td>\n",
       "      <td>101699.77</td>\n",
       "      <td>0</td>\n",
       "    </tr>\n",
       "    <tr>\n",
       "      <td>9997</td>\n",
       "      <td>9998</td>\n",
       "      <td>15584532</td>\n",
       "      <td>Liu</td>\n",
       "      <td>709</td>\n",
       "      <td>France</td>\n",
       "      <td>Female</td>\n",
       "      <td>36</td>\n",
       "      <td>7</td>\n",
       "      <td>0.00</td>\n",
       "      <td>1</td>\n",
       "      <td>0</td>\n",
       "      <td>1</td>\n",
       "      <td>42085.58</td>\n",
       "      <td>1</td>\n",
       "    </tr>\n",
       "    <tr>\n",
       "      <td>9998</td>\n",
       "      <td>9999</td>\n",
       "      <td>15682355</td>\n",
       "      <td>Sabbatini</td>\n",
       "      <td>772</td>\n",
       "      <td>Germany</td>\n",
       "      <td>Male</td>\n",
       "      <td>42</td>\n",
       "      <td>3</td>\n",
       "      <td>75075.31</td>\n",
       "      <td>2</td>\n",
       "      <td>1</td>\n",
       "      <td>0</td>\n",
       "      <td>92888.52</td>\n",
       "      <td>1</td>\n",
       "    </tr>\n",
       "    <tr>\n",
       "      <td>9999</td>\n",
       "      <td>10000</td>\n",
       "      <td>15628319</td>\n",
       "      <td>Walker</td>\n",
       "      <td>792</td>\n",
       "      <td>France</td>\n",
       "      <td>Female</td>\n",
       "      <td>28</td>\n",
       "      <td>4</td>\n",
       "      <td>130142.79</td>\n",
       "      <td>1</td>\n",
       "      <td>1</td>\n",
       "      <td>0</td>\n",
       "      <td>38190.78</td>\n",
       "      <td>0</td>\n",
       "    </tr>\n",
       "  </tbody>\n",
       "</table>\n",
       "<p>10000 rows × 14 columns</p>\n",
       "</div>"
      ],
      "text/plain": [
       "      RowNumber  CustomerId    Surname  CreditScore Geography  Gender  Age  \\\n",
       "0             1    15634602   Hargrave          619    France  Female   42   \n",
       "1             2    15647311       Hill          608     Spain  Female   41   \n",
       "2             3    15619304       Onio          502    France  Female   42   \n",
       "3             4    15701354       Boni          699    France  Female   39   \n",
       "4             5    15737888   Mitchell          850     Spain  Female   43   \n",
       "...         ...         ...        ...          ...       ...     ...  ...   \n",
       "9995       9996    15606229   Obijiaku          771    France    Male   39   \n",
       "9996       9997    15569892  Johnstone          516    France    Male   35   \n",
       "9997       9998    15584532        Liu          709    France  Female   36   \n",
       "9998       9999    15682355  Sabbatini          772   Germany    Male   42   \n",
       "9999      10000    15628319     Walker          792    France  Female   28   \n",
       "\n",
       "      Tenure    Balance  NumOfProducts  HasCrCard  IsActiveMember  \\\n",
       "0          2       0.00              1          1               1   \n",
       "1          1   83807.86              1          0               1   \n",
       "2          8  159660.80              3          1               0   \n",
       "3          1       0.00              2          0               0   \n",
       "4          2  125510.82              1          1               1   \n",
       "...      ...        ...            ...        ...             ...   \n",
       "9995       5       0.00              2          1               0   \n",
       "9996      10   57369.61              1          1               1   \n",
       "9997       7       0.00              1          0               1   \n",
       "9998       3   75075.31              2          1               0   \n",
       "9999       4  130142.79              1          1               0   \n",
       "\n",
       "      EstimatedSalary  Exited  \n",
       "0           101348.88       1  \n",
       "1           112542.58       0  \n",
       "2           113931.57       1  \n",
       "3            93826.63       0  \n",
       "4            79084.10       0  \n",
       "...               ...     ...  \n",
       "9995         96270.64       0  \n",
       "9996        101699.77       0  \n",
       "9997         42085.58       1  \n",
       "9998         92888.52       1  \n",
       "9999         38190.78       0  \n",
       "\n",
       "[10000 rows x 14 columns]"
      ]
     },
     "execution_count": 3,
     "metadata": {},
     "output_type": "execute_result"
    }
   ],
   "source": [
    "data_frame = pd.read_csv('Churn_Modelling.csv')\n",
    "data_frame"
   ]
  },
  {
   "cell_type": "markdown",
   "metadata": {},
   "source": [
    "# Resampling "
   ]
  },
  {
   "cell_type": "code",
   "execution_count": 4,
   "metadata": {},
   "outputs": [],
   "source": [
    "df_majority = data_frame[data_frame.Exited==0]\n",
    "df_minority = data_frame[data_frame.Exited==1]\n",
    "new_data=df_majority.sample(n=3000)\n",
    "churn_data_set = pd.concat([df_minority,new_data],axis='rows')\n",
    "data_frame=churn_data_set"
   ]
  },
  {
   "cell_type": "code",
   "execution_count": 5,
   "metadata": {},
   "outputs": [
    {
     "data": {
      "text/html": [
       "<div>\n",
       "<style scoped>\n",
       "    .dataframe tbody tr th:only-of-type {\n",
       "        vertical-align: middle;\n",
       "    }\n",
       "\n",
       "    .dataframe tbody tr th {\n",
       "        vertical-align: top;\n",
       "    }\n",
       "\n",
       "    .dataframe thead th {\n",
       "        text-align: right;\n",
       "    }\n",
       "</style>\n",
       "<table border=\"1\" class=\"dataframe\">\n",
       "  <thead>\n",
       "    <tr style=\"text-align: right;\">\n",
       "      <th></th>\n",
       "      <th>RowNumber</th>\n",
       "      <th>CustomerId</th>\n",
       "      <th>Surname</th>\n",
       "      <th>CreditScore</th>\n",
       "      <th>Geography</th>\n",
       "      <th>Gender</th>\n",
       "      <th>Age</th>\n",
       "      <th>Tenure</th>\n",
       "      <th>Balance</th>\n",
       "      <th>NumOfProducts</th>\n",
       "      <th>HasCrCard</th>\n",
       "      <th>IsActiveMember</th>\n",
       "      <th>EstimatedSalary</th>\n",
       "      <th>Exited</th>\n",
       "    </tr>\n",
       "  </thead>\n",
       "  <tbody>\n",
       "    <tr>\n",
       "      <td>0</td>\n",
       "      <td>1</td>\n",
       "      <td>15634602</td>\n",
       "      <td>Hargrave</td>\n",
       "      <td>619</td>\n",
       "      <td>France</td>\n",
       "      <td>Female</td>\n",
       "      <td>42</td>\n",
       "      <td>2</td>\n",
       "      <td>0.00</td>\n",
       "      <td>1</td>\n",
       "      <td>1</td>\n",
       "      <td>1</td>\n",
       "      <td>101348.88</td>\n",
       "      <td>1</td>\n",
       "    </tr>\n",
       "    <tr>\n",
       "      <td>2</td>\n",
       "      <td>3</td>\n",
       "      <td>15619304</td>\n",
       "      <td>Onio</td>\n",
       "      <td>502</td>\n",
       "      <td>France</td>\n",
       "      <td>Female</td>\n",
       "      <td>42</td>\n",
       "      <td>8</td>\n",
       "      <td>159660.80</td>\n",
       "      <td>3</td>\n",
       "      <td>1</td>\n",
       "      <td>0</td>\n",
       "      <td>113931.57</td>\n",
       "      <td>1</td>\n",
       "    </tr>\n",
       "    <tr>\n",
       "      <td>5</td>\n",
       "      <td>6</td>\n",
       "      <td>15574012</td>\n",
       "      <td>Chu</td>\n",
       "      <td>645</td>\n",
       "      <td>Spain</td>\n",
       "      <td>Male</td>\n",
       "      <td>44</td>\n",
       "      <td>8</td>\n",
       "      <td>113755.78</td>\n",
       "      <td>2</td>\n",
       "      <td>1</td>\n",
       "      <td>0</td>\n",
       "      <td>149756.71</td>\n",
       "      <td>1</td>\n",
       "    </tr>\n",
       "    <tr>\n",
       "      <td>7</td>\n",
       "      <td>8</td>\n",
       "      <td>15656148</td>\n",
       "      <td>Obinna</td>\n",
       "      <td>376</td>\n",
       "      <td>Germany</td>\n",
       "      <td>Female</td>\n",
       "      <td>29</td>\n",
       "      <td>4</td>\n",
       "      <td>115046.74</td>\n",
       "      <td>4</td>\n",
       "      <td>1</td>\n",
       "      <td>0</td>\n",
       "      <td>119346.88</td>\n",
       "      <td>1</td>\n",
       "    </tr>\n",
       "    <tr>\n",
       "      <td>16</td>\n",
       "      <td>17</td>\n",
       "      <td>15737452</td>\n",
       "      <td>Romeo</td>\n",
       "      <td>653</td>\n",
       "      <td>Germany</td>\n",
       "      <td>Male</td>\n",
       "      <td>58</td>\n",
       "      <td>1</td>\n",
       "      <td>132602.88</td>\n",
       "      <td>1</td>\n",
       "      <td>1</td>\n",
       "      <td>0</td>\n",
       "      <td>5097.67</td>\n",
       "      <td>1</td>\n",
       "    </tr>\n",
       "    <tr>\n",
       "      <td>...</td>\n",
       "      <td>...</td>\n",
       "      <td>...</td>\n",
       "      <td>...</td>\n",
       "      <td>...</td>\n",
       "      <td>...</td>\n",
       "      <td>...</td>\n",
       "      <td>...</td>\n",
       "      <td>...</td>\n",
       "      <td>...</td>\n",
       "      <td>...</td>\n",
       "      <td>...</td>\n",
       "      <td>...</td>\n",
       "      <td>...</td>\n",
       "      <td>...</td>\n",
       "    </tr>\n",
       "    <tr>\n",
       "      <td>3881</td>\n",
       "      <td>3882</td>\n",
       "      <td>15794276</td>\n",
       "      <td>Steele</td>\n",
       "      <td>588</td>\n",
       "      <td>France</td>\n",
       "      <td>Female</td>\n",
       "      <td>64</td>\n",
       "      <td>3</td>\n",
       "      <td>0.00</td>\n",
       "      <td>1</td>\n",
       "      <td>1</td>\n",
       "      <td>1</td>\n",
       "      <td>189703.65</td>\n",
       "      <td>0</td>\n",
       "    </tr>\n",
       "    <tr>\n",
       "      <td>5964</td>\n",
       "      <td>5965</td>\n",
       "      <td>15802220</td>\n",
       "      <td>Ikenna</td>\n",
       "      <td>599</td>\n",
       "      <td>Spain</td>\n",
       "      <td>Male</td>\n",
       "      <td>35</td>\n",
       "      <td>6</td>\n",
       "      <td>137102.65</td>\n",
       "      <td>1</td>\n",
       "      <td>0</td>\n",
       "      <td>0</td>\n",
       "      <td>76870.81</td>\n",
       "      <td>0</td>\n",
       "    </tr>\n",
       "    <tr>\n",
       "      <td>8789</td>\n",
       "      <td>8790</td>\n",
       "      <td>15619116</td>\n",
       "      <td>Wallace</td>\n",
       "      <td>493</td>\n",
       "      <td>France</td>\n",
       "      <td>Female</td>\n",
       "      <td>36</td>\n",
       "      <td>2</td>\n",
       "      <td>0.00</td>\n",
       "      <td>2</td>\n",
       "      <td>0</td>\n",
       "      <td>1</td>\n",
       "      <td>99770.30</td>\n",
       "      <td>0</td>\n",
       "    </tr>\n",
       "    <tr>\n",
       "      <td>2779</td>\n",
       "      <td>2780</td>\n",
       "      <td>15781702</td>\n",
       "      <td>Brookes</td>\n",
       "      <td>733</td>\n",
       "      <td>Germany</td>\n",
       "      <td>Male</td>\n",
       "      <td>38</td>\n",
       "      <td>9</td>\n",
       "      <td>111347.37</td>\n",
       "      <td>2</td>\n",
       "      <td>0</td>\n",
       "      <td>1</td>\n",
       "      <td>194872.97</td>\n",
       "      <td>0</td>\n",
       "    </tr>\n",
       "    <tr>\n",
       "      <td>4051</td>\n",
       "      <td>4052</td>\n",
       "      <td>15725639</td>\n",
       "      <td>Ignatyev</td>\n",
       "      <td>793</td>\n",
       "      <td>France</td>\n",
       "      <td>Female</td>\n",
       "      <td>63</td>\n",
       "      <td>9</td>\n",
       "      <td>116270.72</td>\n",
       "      <td>1</td>\n",
       "      <td>1</td>\n",
       "      <td>1</td>\n",
       "      <td>184243.25</td>\n",
       "      <td>0</td>\n",
       "    </tr>\n",
       "  </tbody>\n",
       "</table>\n",
       "<p>5037 rows × 14 columns</p>\n",
       "</div>"
      ],
      "text/plain": [
       "      RowNumber  CustomerId   Surname  CreditScore Geography  Gender  Age  \\\n",
       "0             1    15634602  Hargrave          619    France  Female   42   \n",
       "2             3    15619304      Onio          502    France  Female   42   \n",
       "5             6    15574012       Chu          645     Spain    Male   44   \n",
       "7             8    15656148    Obinna          376   Germany  Female   29   \n",
       "16           17    15737452     Romeo          653   Germany    Male   58   \n",
       "...         ...         ...       ...          ...       ...     ...  ...   \n",
       "3881       3882    15794276    Steele          588    France  Female   64   \n",
       "5964       5965    15802220    Ikenna          599     Spain    Male   35   \n",
       "8789       8790    15619116   Wallace          493    France  Female   36   \n",
       "2779       2780    15781702   Brookes          733   Germany    Male   38   \n",
       "4051       4052    15725639  Ignatyev          793    France  Female   63   \n",
       "\n",
       "      Tenure    Balance  NumOfProducts  HasCrCard  IsActiveMember  \\\n",
       "0          2       0.00              1          1               1   \n",
       "2          8  159660.80              3          1               0   \n",
       "5          8  113755.78              2          1               0   \n",
       "7          4  115046.74              4          1               0   \n",
       "16         1  132602.88              1          1               0   \n",
       "...      ...        ...            ...        ...             ...   \n",
       "3881       3       0.00              1          1               1   \n",
       "5964       6  137102.65              1          0               0   \n",
       "8789       2       0.00              2          0               1   \n",
       "2779       9  111347.37              2          0               1   \n",
       "4051       9  116270.72              1          1               1   \n",
       "\n",
       "      EstimatedSalary  Exited  \n",
       "0           101348.88       1  \n",
       "2           113931.57       1  \n",
       "5           149756.71       1  \n",
       "7           119346.88       1  \n",
       "16            5097.67       1  \n",
       "...               ...     ...  \n",
       "3881        189703.65       0  \n",
       "5964         76870.81       0  \n",
       "8789         99770.30       0  \n",
       "2779        194872.97       0  \n",
       "4051        184243.25       0  \n",
       "\n",
       "[5037 rows x 14 columns]"
      ]
     },
     "execution_count": 5,
     "metadata": {},
     "output_type": "execute_result"
    }
   ],
   "source": [
    "data_frame"
   ]
  },
  {
   "cell_type": "markdown",
   "metadata": {},
   "source": [
    "# Seprating the Numerical_features and Catagorical_features"
   ]
  },
  {
   "cell_type": "code",
   "execution_count": 6,
   "metadata": {},
   "outputs": [],
   "source": [
    "numerical_features = ['CreditScore','Age','Tenure','Balance','NumOfProducts','EstimatedSalary']\n",
    "catagorical_features = ['Geography','Gender','HasCrCard','IsActiveMember']\n",
    "numerical_features_data_set = data_frame[numerical_features]\n",
    "catagorical_features_data_set=data_frame[catagorical_features]"
   ]
  },
  {
   "cell_type": "markdown",
   "metadata": {},
   "source": [
    "## From the dataset the ratio of Chruned and Not-Chruned is"
   ]
  },
  {
   "cell_type": "code",
   "execution_count": 7,
   "metadata": {},
   "outputs": [
    {
     "data": {
      "image/png": "[encoded data removed]",
      "text/plain": [
       "<Figure size 360x360 with 1 Axes>"
      ]
     },
     "metadata": {},
     "output_type": "display_data"
    },
    {
     "data": {
      "text/plain": [
       "0    3000\n",
       "1    2037\n",
       "Name: Exited, dtype: int64"
      ]
     },
     "execution_count": 7,
     "metadata": {},
     "output_type": "execute_result"
    }
   ],
   "source": [
    "figure_1,ax_1 = plt.subplots(1,1,figsize=(5,5))\n",
    "ax_1.pie(data_frame['Exited'].value_counts(),labels=['Not-Churned','Churned'],autopct='%1.1f%%', shadow=True,explode=(0,0.1))\n",
    "plt.show()\n",
    "data_frame['Exited'].value_counts()"
   ]
  },
  {
   "cell_type": "markdown",
   "metadata": {},
   "source": [
    "### Now as you can see that the dataset consist of highly varying numerical attributes "
   ]
  },
  {
   "cell_type": "code",
   "execution_count": 9,
   "metadata": {},
   "outputs": [
    {
     "data": {
      "image/png": "[encoded data removed]",
      "text/plain": [
       "<Figure size 720x720 with 6 Axes>"
      ]
     },
     "metadata": {
      "needs_background": "light"
     },
     "output_type": "display_data"
    }
   ],
   "source": [
    "kwargs = dict(alpha=1, bins=50,figsize=(10,10))\n",
    "data_frame[numerical_features].hist(**kwargs)\n",
    "plt.show()"
   ]
  },
  {
   "cell_type": "markdown",
   "metadata": {},
   "source": [
    "### Since the data features might not be enoughed for our classifier lets add more columns to it \n",
    "Make to more coloumns, we have taken CreditScore/No.of Products and Balance/CreditScore"
   ]
  },
  {
   "cell_type": "code",
   "execution_count": 10,
   "metadata": {},
   "outputs": [
    {
     "name": "stderr",
     "output_type": "stream",
     "text": [
      "g:\\programs\\python\\python37\\lib\\site-packages\\ipykernel_launcher.py:1: SettingWithCopyWarning: \n",
      "A value is trying to be set on a copy of a slice from a DataFrame.\n",
      "Try using .loc[row_indexer,col_indexer] = value instead\n",
      "\n",
      "See the caveats in the documentation: http://pandas.pydata.org/pandas-docs/stable/user_guide/indexing.html#returning-a-view-versus-a-copy\n",
      "  \"\"\"Entry point for launching an IPython kernel.\n",
      "g:\\programs\\python\\python37\\lib\\site-packages\\ipykernel_launcher.py:2: SettingWithCopyWarning: \n",
      "A value is trying to be set on a copy of a slice from a DataFrame.\n",
      "Try using .loc[row_indexer,col_indexer] = value instead\n",
      "\n",
      "See the caveats in the documentation: http://pandas.pydata.org/pandas-docs/stable/user_guide/indexing.html#returning-a-view-versus-a-copy\n",
      "  \n"
     ]
    },
    {
     "data": {
      "text/html": [
       "<div>\n",
       "<style scoped>\n",
       "    .dataframe tbody tr th:only-of-type {\n",
       "        vertical-align: middle;\n",
       "    }\n",
       "\n",
       "    .dataframe tbody tr th {\n",
       "        vertical-align: top;\n",
       "    }\n",
       "\n",
       "    .dataframe thead th {\n",
       "        text-align: right;\n",
       "    }\n",
       "</style>\n",
       "<table border=\"1\" class=\"dataframe\">\n",
       "  <thead>\n",
       "    <tr style=\"text-align: right;\">\n",
       "      <th></th>\n",
       "      <th>CreditScore</th>\n",
       "      <th>Age</th>\n",
       "      <th>Tenure</th>\n",
       "      <th>Balance</th>\n",
       "      <th>NumOfProducts</th>\n",
       "      <th>EstimatedSalary</th>\n",
       "      <th>CRS_to_PROD</th>\n",
       "      <th>BAL_to_CRS</th>\n",
       "    </tr>\n",
       "  </thead>\n",
       "  <tbody>\n",
       "    <tr>\n",
       "      <td>0</td>\n",
       "      <td>619</td>\n",
       "      <td>42</td>\n",
       "      <td>2</td>\n",
       "      <td>0.00</td>\n",
       "      <td>1</td>\n",
       "      <td>101348.88</td>\n",
       "      <td>619.000000</td>\n",
       "      <td>0.000000</td>\n",
       "    </tr>\n",
       "    <tr>\n",
       "      <td>2</td>\n",
       "      <td>502</td>\n",
       "      <td>42</td>\n",
       "      <td>8</td>\n",
       "      <td>159660.80</td>\n",
       "      <td>3</td>\n",
       "      <td>113931.57</td>\n",
       "      <td>167.333333</td>\n",
       "      <td>318.049402</td>\n",
       "    </tr>\n",
       "    <tr>\n",
       "      <td>5</td>\n",
       "      <td>645</td>\n",
       "      <td>44</td>\n",
       "      <td>8</td>\n",
       "      <td>113755.78</td>\n",
       "      <td>2</td>\n",
       "      <td>149756.71</td>\n",
       "      <td>322.500000</td>\n",
       "      <td>176.365550</td>\n",
       "    </tr>\n",
       "    <tr>\n",
       "      <td>7</td>\n",
       "      <td>376</td>\n",
       "      <td>29</td>\n",
       "      <td>4</td>\n",
       "      <td>115046.74</td>\n",
       "      <td>4</td>\n",
       "      <td>119346.88</td>\n",
       "      <td>94.000000</td>\n",
       "      <td>305.975372</td>\n",
       "    </tr>\n",
       "    <tr>\n",
       "      <td>16</td>\n",
       "      <td>653</td>\n",
       "      <td>58</td>\n",
       "      <td>1</td>\n",
       "      <td>132602.88</td>\n",
       "      <td>1</td>\n",
       "      <td>5097.67</td>\n",
       "      <td>653.000000</td>\n",
       "      <td>203.067198</td>\n",
       "    </tr>\n",
       "    <tr>\n",
       "      <td>...</td>\n",
       "      <td>...</td>\n",
       "      <td>...</td>\n",
       "      <td>...</td>\n",
       "      <td>...</td>\n",
       "      <td>...</td>\n",
       "      <td>...</td>\n",
       "      <td>...</td>\n",
       "      <td>...</td>\n",
       "    </tr>\n",
       "    <tr>\n",
       "      <td>3881</td>\n",
       "      <td>588</td>\n",
       "      <td>64</td>\n",
       "      <td>3</td>\n",
       "      <td>0.00</td>\n",
       "      <td>1</td>\n",
       "      <td>189703.65</td>\n",
       "      <td>588.000000</td>\n",
       "      <td>0.000000</td>\n",
       "    </tr>\n",
       "    <tr>\n",
       "      <td>5964</td>\n",
       "      <td>599</td>\n",
       "      <td>35</td>\n",
       "      <td>6</td>\n",
       "      <td>137102.65</td>\n",
       "      <td>1</td>\n",
       "      <td>76870.81</td>\n",
       "      <td>599.000000</td>\n",
       "      <td>228.885893</td>\n",
       "    </tr>\n",
       "    <tr>\n",
       "      <td>8789</td>\n",
       "      <td>493</td>\n",
       "      <td>36</td>\n",
       "      <td>2</td>\n",
       "      <td>0.00</td>\n",
       "      <td>2</td>\n",
       "      <td>99770.30</td>\n",
       "      <td>246.500000</td>\n",
       "      <td>0.000000</td>\n",
       "    </tr>\n",
       "    <tr>\n",
       "      <td>2779</td>\n",
       "      <td>733</td>\n",
       "      <td>38</td>\n",
       "      <td>9</td>\n",
       "      <td>111347.37</td>\n",
       "      <td>2</td>\n",
       "      <td>194872.97</td>\n",
       "      <td>366.500000</td>\n",
       "      <td>151.906371</td>\n",
       "    </tr>\n",
       "    <tr>\n",
       "      <td>4051</td>\n",
       "      <td>793</td>\n",
       "      <td>63</td>\n",
       "      <td>9</td>\n",
       "      <td>116270.72</td>\n",
       "      <td>1</td>\n",
       "      <td>184243.25</td>\n",
       "      <td>793.000000</td>\n",
       "      <td>146.621337</td>\n",
       "    </tr>\n",
       "  </tbody>\n",
       "</table>\n",
       "<p>5037 rows × 8 columns</p>\n",
       "</div>"
      ],
      "text/plain": [
       "      CreditScore  Age  Tenure    Balance  NumOfProducts  EstimatedSalary  \\\n",
       "0             619   42       2       0.00              1        101348.88   \n",
       "2             502   42       8  159660.80              3        113931.57   \n",
       "5             645   44       8  113755.78              2        149756.71   \n",
       "7             376   29       4  115046.74              4        119346.88   \n",
       "16            653   58       1  132602.88              1          5097.67   \n",
       "...           ...  ...     ...        ...            ...              ...   \n",
       "3881          588   64       3       0.00              1        189703.65   \n",
       "5964          599   35       6  137102.65              1         76870.81   \n",
       "8789          493   36       2       0.00              2         99770.30   \n",
       "2779          733   38       9  111347.37              2        194872.97   \n",
       "4051          793   63       9  116270.72              1        184243.25   \n",
       "\n",
       "      CRS_to_PROD  BAL_to_CRS  \n",
       "0      619.000000    0.000000  \n",
       "2      167.333333  318.049402  \n",
       "5      322.500000  176.365550  \n",
       "7       94.000000  305.975372  \n",
       "16     653.000000  203.067198  \n",
       "...           ...         ...  \n",
       "3881   588.000000    0.000000  \n",
       "5964   599.000000  228.885893  \n",
       "8789   246.500000    0.000000  \n",
       "2779   366.500000  151.906371  \n",
       "4051   793.000000  146.621337  \n",
       "\n",
       "[5037 rows x 8 columns]"
      ]
     },
     "execution_count": 10,
     "metadata": {},
     "output_type": "execute_result"
    }
   ],
   "source": [
    "numerical_features_data_set['CRS_to_PROD'] = numerical_features_data_set['CreditScore']/numerical_features_data_set['NumOfProducts']\n",
    "numerical_features_data_set['BAL_to_CRS'] = numerical_features_data_set['Balance']/numerical_features_data_set['CreditScore']\n",
    "numerical_features_data_set"
   ]
  },
  {
   "cell_type": "markdown",
   "metadata": {},
   "source": [
    "# Now let's see the effect of numerical_features on Chrun"
   ]
  },
  {
   "cell_type": "code",
   "execution_count": 11,
   "metadata": {},
   "outputs": [
    {
     "data": {
      "image/png": "[encoded data removed]",
      "text/plain": [
       "<Figure size 864x864 with 6 Axes>"
      ]
     },
     "metadata": {
      "needs_background": "light"
     },
     "output_type": "display_data"
    },
    {
     "data": {
      "image/png": "[encoded data removed]",
      "text/plain": [
       "<Figure size 1008x288 with 4 Axes>"
      ]
     },
     "metadata": {
      "needs_background": "light"
     },
     "output_type": "display_data"
    }
   ],
   "source": [
    "fig_new,ax_new =plt.subplots(2,3,figsize=(12,12))\n",
    "data_frame[data_frame.Exited==1][numerical_features].hist(color='red',alpha=0.8,ax=ax_new,bins=30,label=\"Churned\")\n",
    "data_frame[data_frame.Exited==0][numerical_features].hist(color='blue',alpha=0.2,ax=ax_new,bins=30,label=\"not-Churned\")\n",
    "plt.legend()\n",
    "plt.show()\n",
    "\n",
    "feature = ['Geography','Gender','HasCrCard','IsActiveMember']\n",
    "fig, ax = plt.subplots(1, 4, figsize=(14, 4))\n",
    "for i in range(4):\n",
    "    \n",
    "    data_frame[data_frame.Exited == 1][feature[i]].value_counts().plot(kind=\"bar\", ax=ax[i]).set_title(\"Churned Plot For \"+str(feature[i]))"
   ]
  },
  {
   "cell_type": "markdown",
   "metadata": {},
   "source": [
    "Data contains string elements so we need to encode it to numerical ones before that lets seprate the target value from the dataset"
   ]
  },
  {
   "cell_type": "code",
   "execution_count": 12,
   "metadata": {},
   "outputs": [],
   "source": [
    "y = data_frame['Exited']\n",
    "data_frame = data_frame.drop(['RowNumber','CustomerId','Surname'],axis='columns')"
   ]
  },
  {
   "cell_type": "code",
   "execution_count": 13,
   "metadata": {},
   "outputs": [],
   "source": [
    "Gender_dummy = pd.get_dummies(catagorical_features_data_set.Gender)\n",
    "Geography_dummy = pd.get_dummies(catagorical_features_data_set.Geography)"
   ]
  },
  {
   "cell_type": "code",
   "execution_count": 14,
   "metadata": {
    "scrolled": false
   },
   "outputs": [],
   "source": [
    "final_data = pd.concat([numerical_features_data_set,Gender_dummy,Geography_dummy,catagorical_features_data_set.IsActiveMember,catagorical_features_data_set.HasCrCard],axis='columns') \n",
    "final_data=final_data.drop(['Male','Spain'],axis='columns')"
   ]
  },
  {
   "cell_type": "markdown",
   "metadata": {},
   "source": [
    "# Now let's split the data into training and testing"
   ]
  },
  {
   "cell_type": "code",
   "execution_count": 15,
   "metadata": {},
   "outputs": [],
   "source": [
    "y= data_frame['Exited']\n",
    "X = final_data\n",
    "X_train1,X_test1,y_train1,y_test1= train_test_split(X,y,test_size = 0.2,random_state=13)\n",
    "X_train = X_train1.to_numpy()\n",
    "X_test = X_test1.to_numpy()\n",
    "y_train = y_train1.to_numpy()\n",
    "y_test = y_test1.to_numpy()\n"
   ]
  },
  {
   "cell_type": "code",
   "execution_count": 16,
   "metadata": {},
   "outputs": [
    {
     "data": {
      "text/plain": [
       "0    609\n",
       "1    399\n",
       "Name: Exited, dtype: int64"
      ]
     },
     "execution_count": 16,
     "metadata": {},
     "output_type": "execute_result"
    }
   ],
   "source": [
    "y_test1.value_counts()"
   ]
  },
  {
   "cell_type": "code",
   "execution_count": 17,
   "metadata": {},
   "outputs": [
    {
     "data": {
      "text/html": [
       "<div>\n",
       "<style scoped>\n",
       "    .dataframe tbody tr th:only-of-type {\n",
       "        vertical-align: middle;\n",
       "    }\n",
       "\n",
       "    .dataframe tbody tr th {\n",
       "        vertical-align: top;\n",
       "    }\n",
       "\n",
       "    .dataframe thead th {\n",
       "        text-align: right;\n",
       "    }\n",
       "</style>\n",
       "<table border=\"1\" class=\"dataframe\">\n",
       "  <thead>\n",
       "    <tr style=\"text-align: right;\">\n",
       "      <th></th>\n",
       "      <th>CreditScore</th>\n",
       "      <th>Age</th>\n",
       "      <th>Tenure</th>\n",
       "      <th>Balance</th>\n",
       "      <th>NumOfProducts</th>\n",
       "      <th>EstimatedSalary</th>\n",
       "      <th>CRS_to_PROD</th>\n",
       "      <th>BAL_to_CRS</th>\n",
       "      <th>Female</th>\n",
       "      <th>France</th>\n",
       "      <th>Germany</th>\n",
       "      <th>IsActiveMember</th>\n",
       "      <th>HasCrCard</th>\n",
       "    </tr>\n",
       "  </thead>\n",
       "  <tbody>\n",
       "    <tr>\n",
       "      <td>7868</td>\n",
       "      <td>611</td>\n",
       "      <td>29</td>\n",
       "      <td>4</td>\n",
       "      <td>78885.88</td>\n",
       "      <td>2</td>\n",
       "      <td>26927.69</td>\n",
       "      <td>305.500000</td>\n",
       "      <td>129.109460</td>\n",
       "      <td>1</td>\n",
       "      <td>0</td>\n",
       "      <td>1</td>\n",
       "      <td>1</td>\n",
       "      <td>1</td>\n",
       "    </tr>\n",
       "    <tr>\n",
       "      <td>7567</td>\n",
       "      <td>629</td>\n",
       "      <td>44</td>\n",
       "      <td>5</td>\n",
       "      <td>0.00</td>\n",
       "      <td>4</td>\n",
       "      <td>117572.59</td>\n",
       "      <td>157.250000</td>\n",
       "      <td>0.000000</td>\n",
       "      <td>0</td>\n",
       "      <td>1</td>\n",
       "      <td>0</td>\n",
       "      <td>0</td>\n",
       "      <td>0</td>\n",
       "    </tr>\n",
       "    <tr>\n",
       "      <td>7870</td>\n",
       "      <td>529</td>\n",
       "      <td>29</td>\n",
       "      <td>8</td>\n",
       "      <td>0.00</td>\n",
       "      <td>2</td>\n",
       "      <td>19842.11</td>\n",
       "      <td>264.500000</td>\n",
       "      <td>0.000000</td>\n",
       "      <td>1</td>\n",
       "      <td>1</td>\n",
       "      <td>0</td>\n",
       "      <td>0</td>\n",
       "      <td>1</td>\n",
       "    </tr>\n",
       "    <tr>\n",
       "      <td>3935</td>\n",
       "      <td>728</td>\n",
       "      <td>45</td>\n",
       "      <td>3</td>\n",
       "      <td>108924.33</td>\n",
       "      <td>2</td>\n",
       "      <td>84300.40</td>\n",
       "      <td>364.000000</td>\n",
       "      <td>149.621332</td>\n",
       "      <td>0</td>\n",
       "      <td>0</td>\n",
       "      <td>1</td>\n",
       "      <td>0</td>\n",
       "      <td>1</td>\n",
       "    </tr>\n",
       "    <tr>\n",
       "      <td>743</td>\n",
       "      <td>611</td>\n",
       "      <td>49</td>\n",
       "      <td>2</td>\n",
       "      <td>88915.37</td>\n",
       "      <td>3</td>\n",
       "      <td>161435.02</td>\n",
       "      <td>203.666667</td>\n",
       "      <td>145.524337</td>\n",
       "      <td>1</td>\n",
       "      <td>1</td>\n",
       "      <td>0</td>\n",
       "      <td>0</td>\n",
       "      <td>0</td>\n",
       "    </tr>\n",
       "    <tr>\n",
       "      <td>...</td>\n",
       "      <td>...</td>\n",
       "      <td>...</td>\n",
       "      <td>...</td>\n",
       "      <td>...</td>\n",
       "      <td>...</td>\n",
       "      <td>...</td>\n",
       "      <td>...</td>\n",
       "      <td>...</td>\n",
       "      <td>...</td>\n",
       "      <td>...</td>\n",
       "      <td>...</td>\n",
       "      <td>...</td>\n",
       "      <td>...</td>\n",
       "    </tr>\n",
       "    <tr>\n",
       "      <td>5950</td>\n",
       "      <td>834</td>\n",
       "      <td>57</td>\n",
       "      <td>8</td>\n",
       "      <td>112281.60</td>\n",
       "      <td>3</td>\n",
       "      <td>140225.14</td>\n",
       "      <td>278.000000</td>\n",
       "      <td>134.630216</td>\n",
       "      <td>1</td>\n",
       "      <td>0</td>\n",
       "      <td>1</td>\n",
       "      <td>0</td>\n",
       "      <td>1</td>\n",
       "    </tr>\n",
       "    <tr>\n",
       "      <td>3416</td>\n",
       "      <td>532</td>\n",
       "      <td>38</td>\n",
       "      <td>9</td>\n",
       "      <td>0.00</td>\n",
       "      <td>2</td>\n",
       "      <td>30583.95</td>\n",
       "      <td>266.000000</td>\n",
       "      <td>0.000000</td>\n",
       "      <td>0</td>\n",
       "      <td>1</td>\n",
       "      <td>0</td>\n",
       "      <td>0</td>\n",
       "      <td>0</td>\n",
       "    </tr>\n",
       "    <tr>\n",
       "      <td>4104</td>\n",
       "      <td>850</td>\n",
       "      <td>55</td>\n",
       "      <td>6</td>\n",
       "      <td>0.00</td>\n",
       "      <td>1</td>\n",
       "      <td>944.41</td>\n",
       "      <td>850.000000</td>\n",
       "      <td>0.000000</td>\n",
       "      <td>0</td>\n",
       "      <td>1</td>\n",
       "      <td>0</td>\n",
       "      <td>0</td>\n",
       "      <td>1</td>\n",
       "    </tr>\n",
       "    <tr>\n",
       "      <td>4421</td>\n",
       "      <td>630</td>\n",
       "      <td>31</td>\n",
       "      <td>1</td>\n",
       "      <td>0.00</td>\n",
       "      <td>2</td>\n",
       "      <td>169802.73</td>\n",
       "      <td>315.000000</td>\n",
       "      <td>0.000000</td>\n",
       "      <td>1</td>\n",
       "      <td>0</td>\n",
       "      <td>0</td>\n",
       "      <td>1</td>\n",
       "      <td>1</td>\n",
       "    </tr>\n",
       "    <tr>\n",
       "      <td>3226</td>\n",
       "      <td>603</td>\n",
       "      <td>35</td>\n",
       "      <td>1</td>\n",
       "      <td>105346.03</td>\n",
       "      <td>2</td>\n",
       "      <td>130379.50</td>\n",
       "      <td>301.500000</td>\n",
       "      <td>174.703201</td>\n",
       "      <td>0</td>\n",
       "      <td>0</td>\n",
       "      <td>1</td>\n",
       "      <td>1</td>\n",
       "      <td>1</td>\n",
       "    </tr>\n",
       "  </tbody>\n",
       "</table>\n",
       "<p>1008 rows × 13 columns</p>\n",
       "</div>"
      ],
      "text/plain": [
       "      CreditScore  Age  Tenure    Balance  NumOfProducts  EstimatedSalary  \\\n",
       "7868          611   29       4   78885.88              2         26927.69   \n",
       "7567          629   44       5       0.00              4        117572.59   \n",
       "7870          529   29       8       0.00              2         19842.11   \n",
       "3935          728   45       3  108924.33              2         84300.40   \n",
       "743           611   49       2   88915.37              3        161435.02   \n",
       "...           ...  ...     ...        ...            ...              ...   \n",
       "5950          834   57       8  112281.60              3        140225.14   \n",
       "3416          532   38       9       0.00              2         30583.95   \n",
       "4104          850   55       6       0.00              1           944.41   \n",
       "4421          630   31       1       0.00              2        169802.73   \n",
       "3226          603   35       1  105346.03              2        130379.50   \n",
       "\n",
       "      CRS_to_PROD  BAL_to_CRS  Female  France  Germany  IsActiveMember  \\\n",
       "7868   305.500000  129.109460       1       0        1               1   \n",
       "7567   157.250000    0.000000       0       1        0               0   \n",
       "7870   264.500000    0.000000       1       1        0               0   \n",
       "3935   364.000000  149.621332       0       0        1               0   \n",
       "743    203.666667  145.524337       1       1        0               0   \n",
       "...           ...         ...     ...     ...      ...             ...   \n",
       "5950   278.000000  134.630216       1       0        1               0   \n",
       "3416   266.000000    0.000000       0       1        0               0   \n",
       "4104   850.000000    0.000000       0       1        0               0   \n",
       "4421   315.000000    0.000000       1       0        0               1   \n",
       "3226   301.500000  174.703201       0       0        1               1   \n",
       "\n",
       "      HasCrCard  \n",
       "7868          1  \n",
       "7567          0  \n",
       "7870          1  \n",
       "3935          1  \n",
       "743           0  \n",
       "...         ...  \n",
       "5950          1  \n",
       "3416          0  \n",
       "4104          1  \n",
       "4421          1  \n",
       "3226          1  \n",
       "\n",
       "[1008 rows x 13 columns]"
      ]
     },
     "execution_count": 17,
     "metadata": {},
     "output_type": "execute_result"
    }
   ],
   "source": [
    "X_test1"
   ]
  },
  {
   "cell_type": "code",
   "execution_count": 18,
   "metadata": {},
   "outputs": [
    {
     "data": {
      "text/plain": [
       "array(['Not_Churned', 'Churned', 'Not_Churned', ..., 'Churned',\n",
       "       'Not_Churned', 'Not_Churned'], dtype='<U21')"
      ]
     },
     "execution_count": 18,
     "metadata": {},
     "output_type": "execute_result"
    }
   ],
   "source": [
    "d = np.where(y_test==0, 'Not_Churned', y_test)\n",
    "labels=np.where(y_test==1,'Churned',d)\n",
    "labels"
   ]
  },
  {
   "cell_type": "markdown",
   "metadata": {},
   "source": [
    "# Now it's time to train our model usign classifier\n",
    "we will use DecisionTreeClassifier to train it"
   ]
  },
  {
   "cell_type": "code",
   "execution_count": 19,
   "metadata": {},
   "outputs": [],
   "source": [
    "try:\n",
    "    def training_curve(model):\n",
    "        train_sizes, train_scores, test_scores = learning_curve(RandomForestClassifier(max_leaf_nodes=model.max_leaf_nodes,max_features=model.max_features), \n",
    "                                                        X, \n",
    "                                                        y,\n",
    "                                                        # Number of folds in cross-validation\n",
    "                                                        cv=10,\n",
    "                                                        # Evaluation metric\n",
    "                                                        scoring='accuracy',\n",
    "                                                        # Use all computer cores\n",
    "                                                        n_jobs=-1, \n",
    "                                                        # 50 different sizes of the training set\n",
    "                                                        train_sizes=np.linspace(0.01, 1.0, 50))\n",
    "        # Create means and standard deviations of training set scores\n",
    "        train_mean = np.mean(train_scores, axis=1)\n",
    "        train_std = np.std(train_scores, axis=1)\n",
    "\n",
    "        # Create means and standard deviations of test set scores\n",
    "        test_mean = np.mean(test_scores, axis=1)\n",
    "        test_std = np.std(test_scores, axis=1)\n",
    "\n",
    "        # Draw lines\n",
    "        plt.plot(train_sizes, train_mean, '--', color=\"#111111\",  label=\"Training score\")\n",
    "        plt.plot(train_sizes, test_mean, color=\"#111111\", label=\"Cross-validation score\")\n",
    "\n",
    "        # Draw bands\n",
    "        plt.fill_between(train_sizes, train_mean - train_std, train_mean + train_std, color=\"#DDDDDD\")\n",
    "        plt.fill_between(train_sizes, test_mean - test_std, test_mean + test_std, color=\"#DDDDDD\")\n",
    "\n",
    "        # Create plot\n",
    "        plt.title(\"Learning Curve\")\n",
    "        plt.xlabel(\"Training Set Size\"), plt.ylabel(\"Accuracy Score\"), plt.legend(loc=\"best\")\n",
    "        plt.tight_layout()\n",
    "        plt.show()\n",
    "        \n",
    "\n",
    "    \n",
    " \n",
    "    def churned_pie(dec_clf_predict):\n",
    "        dec_tree_clf_predict_pis = pd.Series(dec_clf_predict)\n",
    "        figure_1,ax_1 = plt.subplots(1,1,figsize=(5,5))\n",
    "        display(Markdown(f\"<h3>Test Data</h3>\"))\n",
    "        ax_1.pie(pd.Series(y_test).value_counts(),labels=['Not-Churned','Churned'],autopct='%1.1f%%', shadow=True,explode=(0,0.1))\n",
    "        plt.show()\n",
    "        figure_1,ax_1 = plt.subplots(1,1,figsize=(5,5))\n",
    "        display(Markdown(f\"<h3>Predicted Data</h3>\"))\n",
    "        ax_1.pie(dec_tree_clf_predict_pis.value_counts(),labels=['Not-Churned','Churned'],autopct='%1.1f%%', shadow=True,explode=(0,0.1))\n",
    "        plt.show()        \n",
    "    def progress(count, total, status=''):\n",
    "        bar_len = 60\n",
    "        filled_len = int(round(bar_len * count / float(total)))\n",
    "\n",
    "        percents = round(100.0 * count / float(total), 1)\n",
    "        bar = '=' * filled_len + '-' * (bar_len - filled_len)\n",
    "\n",
    "        sys.stdout.write('[%s] %s%s ...%s\\r' % (bar, percents, '%', status))\n",
    "        sys.stdout.flush()\n",
    "    def classifier_fun():\n",
    "        \n",
    "        display(Markdown(\"\"\"<div class=\"alert alert-block alert-info\">\n",
    "<b>Training the model:</b>Using Customized RandomForestClassifier with randomizer parameters to achive around 80% accuracy.\n",
    "</div>\"\"\"))\n",
    "        sleep(2)\n",
    "        count_itter = 1\n",
    "        while True:\n",
    "            model = RandomForestClassifier(max_depth=random.randint(2,7),max_features=random.randint(5,13),max_leaf_nodes=None,n_estimators=200)\n",
    "            model.fit(X_train,y_train)\n",
    "            model_predict = model.predict(X_test)\n",
    "            cm = confusion_matrix(y_test,model_predict)\n",
    "        \n",
    "            \n",
    "            if  model.score(X_train,y_train)>model.score(X_test,y_test) and model.score(X_train,y_train)>0.81 and model.score(X_train,y_train) - model.score(X_test,y_test) < 0.04:\n",
    "                display(Markdown(f\"<h1>Accuracy Report</h1>\"))\n",
    "                print(\"Average Accuracy \"+str(accuracy_score(y_test,model_predict.reshape(-1,1))*100))\n",
    "                print(\"Training Accuracy \"+str(model.score(X_train,y_train)*100))  \n",
    "                print(\"Test Accuracy \"+str(model.score(X_test,y_test)*100))\n",
    "                print(\"Log_Los \"+str(log_loss(y_test,model_predict.reshape(-1,1)*100)))\n",
    "                display(Markdown(f\"<h1>Learned Parameters</h1>\"))\n",
    "                print(\"Max_depth \"+str(model.max_depth))\n",
    "                print(\"Max_leaf_nodes \"+str(model.max_leaf_nodes))\n",
    "                print(\"Max_Features \"+str(model.max_features))\n",
    "                display(Markdown(f\"<h1>Classification report</h1>\"))\n",
    "                print(classification_report(y_test,model_predict.reshape(-1,1)))\n",
    "                display(Markdown(f\"<h1>Validation Curve</h1>\"))\n",
    "                param_range = np.arange(1, model.max_depth, 1)\n",
    "                train_scores, test_scores = validation_curve(RandomForestClassifier(max_leaf_nodes=model.max_leaf_nodes,max_features=model.max_features),X,y,param_name='max_depth',param_range=param_range,cv=3,scoring=\"accuracy\",n_jobs=-1)\n",
    "# Calculate mean and standard deviation for training set scores\n",
    "                train_mean = np.mean(train_scores, axis=1)\n",
    "                train_std = np.std(train_scores, axis=1)\n",
    "\n",
    "# Calculate mean and standard deviation for test set scores\n",
    "                test_mean = np.mean(test_scores, axis=1)\n",
    "                test_std = np.std(test_scores, axis=1)\n",
    "\n",
    "# Plot mean accuracy scores for training and test sets\n",
    "                plt.plot(param_range, train_mean, label=\"Training score\", color=\"red\")\n",
    "                plt.plot(param_range, test_mean, label=\"Cross-validation score\", color=\"blue\")\n",
    "\n",
    "# Create plot\n",
    "                plt.title(\"Validation Curve With RandomForestClassifier\")\n",
    "                plt.xlabel(\"Maximum-Depth\")\n",
    "                plt.ylabel(\"Accuracy Score\")\n",
    "                plt.tight_layout()\n",
    "                plt.legend(loc=\"best\")\n",
    "                plt.show()\n",
    "                display(Markdown(f\"<h1>Confusion Matrix-Normalized</h1>\"))\n",
    "                print(\"Confusion Matrix \\n\"+str(cm))\n",
    "                skplt.metrics.plot_confusion_matrix(y_test,model_predict.reshape(-1,1),normalize=True)\n",
    "                plt.show()\n",
    "                \n",
    "                d = np.where(y_test==0, 'Not_Churned', y_test)\n",
    "                labels=np.where(y_test==1,'Churned',d)\n",
    "                class_names=labels.tolist()\n",
    "                feature_names=['CreditScore','Age','Tenure','Balance','NumOfProducts','EstimatedSalary','CRS_to_PROD','BAL_to_CRS','Female','France','Germany','IsActiveMember','HasCrCard']\n",
    "                estimator = model.estimators_[100]\n",
    "                \n",
    "                export_graphviz(estimator, out_file='tree.dot', \n",
    "                    feature_names = feature_names,\n",
    "                    class_names = class_names,\n",
    "                    rounded = True, proportion = True, \n",
    "                    precision = 2, filled = True)\n",
    "                call(['dot', '-Tpng', 'tree.dot', '-o', 'tree.png', '-Gdpi=600'])\n",
    "                display(Markdown(f\"<h1>Churned Pie After Training</h1>\"))\n",
    "                churned_pie(model_predict)\n",
    "                training_curve(model)\n",
    "               \n",
    "                \n",
    "                \n",
    "                break\n",
    "            else:\n",
    "                total = 100\n",
    "                i = 0\n",
    "                while i < total:\n",
    "                    \n",
    "                    progress(i, total, status='Learning Model,with Different parameters')\n",
    "                    sleep(0.01)\n",
    "                    i += 1   \n",
    "                print(\"\\n\")\n",
    "                print(\"Itters = \"+str(count_itter))\n",
    "                print(\"Balanced Accuracy Test \"+str(balanced_accuracy_score(y_test,model_predict.reshape(-1,1))*100))\n",
    "                print(\"Training Accuracy \"+str(model.score(X_train,y_train)*100))  \n",
    "                print(\"Test Accuracy \"+str(model.score(X_test,y_test)*100))\n",
    "                print(\"Log_Los \"+str(log_loss(y_test,model_predict.reshape(-1,1)*100)))\n",
    "                \n",
    "                count_itter+=1    \n",
    "except Exception:\n",
    "    print(\"Unexpected error: Re-try\")"
   ]
  },
  {
   "cell_type": "code",
   "execution_count": 18,
   "metadata": {
    "scrolled": true
   },
   "outputs": [
    {
     "data": {
      "text/markdown": [
       "<div class=\"alert alert-block alert-info\">\n",
       "<b>Training the model:</b>Using Customized RandomForestClassifier with randomizer parameters to achive around 80% accuracy.\n",
       "</div>"
      ],
      "text/plain": [
       "<IPython.core.display.Markdown object>"
      ]
     },
     "metadata": {},
     "output_type": "display_data"
    },
    {
     "name": "stdout",
     "output_type": "stream",
     "text": [
      "[===========================================================-] 99.0% ...Learning Model,with Different parameters\n",
      "\n",
      "Itters = 1\n",
      "Balanced Accuracy Test 75.5811943652234\n",
      "Training Accuracy 80.41697691734922\n",
      "Test Accuracy 78.27380952380952\n",
      "Log_Los 7.5040158753031285\n",
      "[===========================================================-] 99.0% ...Learning Model,with Different parameters\n",
      "\n",
      "Itters = 2\n",
      "Balanced Accuracy Test 74.20706939763203\n",
      "Training Accuracy 77.91015140233309\n",
      "Test Accuracy 77.08333333333334\n",
      "Log_Los 7.9151941645206065\n",
      "[===========================================================-] 99.0% ...Learning Model,with Different parameters\n",
      "\n",
      "Itters = 3\n",
      "Balanced Accuracy Test 74.74289171203871\n",
      "Training Accuracy 80.5162571357657\n",
      "Test Accuracy 77.67857142857143\n",
      "Log_Los 7.7096022435319025\n",
      "[===========================================================-] 99.0% ...Learning Model,with Different parameters\n",
      "\n",
      "Itters = 4\n",
      "Balanced Accuracy Test 74.43176907786709\n",
      "Training Accuracy 76.02382725241995\n",
      "Test Accuracy 76.88492063492063\n",
      "Log_Los 7.983732208530085\n",
      "[===========================================================-] 99.0% ...Learning Model,with Different parameters\n",
      "\n",
      "Itters = 5\n",
      "Balanced Accuracy Test 72.9366519747645\n",
      "Training Accuracy 73.79002233804914\n",
      "Test Accuracy 74.50396825396825\n",
      "Log_Los 8.806111791256189\n",
      "[===========================================================-] 99.0% ...Learning Model,with Different parameters\n",
      "\n",
      "Itters = 6\n",
      "Balanced Accuracy Test 74.64350531501167\n",
      "Training Accuracy 76.14792752544055\n",
      "Test Accuracy 76.98412698412699\n",
      "Log_Los 7.949469135910987\n",
      "[===========================================================-] 99.0% ...Learning Model,with Different parameters\n",
      "\n",
      "Itters = 7\n",
      "Balanced Accuracy Test 75.53798288825513\n",
      "Training Accuracy 78.60511293124844\n",
      "Test Accuracy 78.27380952380952\n",
      "Log_Los 7.504015082051709\n",
      "[===========================================================-] 99.0% ...Learning Model,with Different parameters\n",
      "\n",
      "Itters = 8\n",
      "Balanced Accuracy Test 75.83182093163944\n",
      "Training Accuracy 80.21841648051625\n",
      "Test Accuracy 78.47222222222221\n",
      "Log_Los 7.435486557059258\n",
      "[===========================================================-] 99.0% ...Learning Model,with Different parameters\n",
      "\n",
      "Itters = 9\n",
      "Balanced Accuracy Test 73.02307492870106\n",
      "Training Accuracy 73.59146190121618\n",
      "Test Accuracy 74.50396825396825\n",
      "Log_Los 8.806113377759027\n"
     ]
    },
    {
     "data": {
      "text/markdown": [
       "<h1>Accuracy Report</h1>"
      ],
      "text/plain": [
       "<IPython.core.display.Markdown object>"
      ]
     },
     "metadata": {},
     "output_type": "display_data"
    },
    {
     "name": "stdout",
     "output_type": "stream",
     "text": [
      "Average Accuracy 78.86904761904762\n",
      "Training Accuracy 82.42740134028294\n",
      "Test Accuracy 78.86904761904762\n",
      "Log_Los 7.298426334068679\n"
     ]
    },
    {
     "data": {
      "text/markdown": [
       "<h1>Learned Parameters</h1>"
      ],
      "text/plain": [
       "<IPython.core.display.Markdown object>"
      ]
     },
     "metadata": {},
     "output_type": "display_data"
    },
    {
     "name": "stdout",
     "output_type": "stream",
     "text": [
      "Max_depth 7\n",
      "Max_leaf_nodes None\n",
      "Max_Features 9\n"
     ]
    },
    {
     "data": {
      "text/markdown": [
       "<h1>Classification report</h1>"
      ],
      "text/plain": [
       "<IPython.core.display.Markdown object>"
      ]
     },
     "metadata": {},
     "output_type": "display_data"
    },
    {
     "name": "stdout",
     "output_type": "stream",
     "text": [
      "              precision    recall  f1-score   support\n",
      "\n",
      "           0       0.79      0.89      0.84       609\n",
      "           1       0.79      0.64      0.70       399\n",
      "\n",
      "    accuracy                           0.79      1008\n",
      "   macro avg       0.79      0.76      0.77      1008\n",
      "weighted avg       0.79      0.79      0.78      1008\n",
      "\n"
     ]
    },
    {
     "data": {
      "text/markdown": [
       "<h1>Validation Curve</h1>"
      ],
      "text/plain": [
       "<IPython.core.display.Markdown object>"
      ]
     },
     "metadata": {},
     "output_type": "display_data"
    },
    {
     "data": {
      "image/png": "[encoded data removed]",
      "text/plain": [
       "<Figure size 432x288 with 1 Axes>"
      ]
     },
     "metadata": {
      "needs_background": "light"
     },
     "output_type": "display_data"
    },
    {
     "data": {
      "text/markdown": [
       "<h1>Confusion Matrix-Normalized</h1>"
      ],
      "text/plain": [
       "<IPython.core.display.Markdown object>"
      ]
     },
     "metadata": {},
     "output_type": "display_data"
    },
    {
     "name": "stdout",
     "output_type": "stream",
     "text": [
      "Confusion Matrix \n",
      "[[541  68]\n",
      " [145 254]]\n"
     ]
    },
    {
     "data": {
      "image/png": "[encoded data removed]",
      "text/plain": [
       "<Figure size 432x288 with 2 Axes>"
      ]
     },
     "metadata": {
      "needs_background": "light"
     },
     "output_type": "display_data"
    },
    {
     "data": {
      "text/markdown": [
       "<h1>Churned Pie After Training</h1>"
      ],
      "text/plain": [
       "<IPython.core.display.Markdown object>"
      ]
     },
     "metadata": {},
     "output_type": "display_data"
    },
    {
     "data": {
      "text/markdown": [
       "<h3>Test Data</h3>"
      ],
      "text/plain": [
       "<IPython.core.display.Markdown object>"
      ]
     },
     "metadata": {},
     "output_type": "display_data"
    },
    {
     "data": {
      "image/png": "[encoded data removed]",
      "text/plain": [
       "<Figure size 360x360 with 1 Axes>"
      ]
     },
     "metadata": {},
     "output_type": "display_data"
    },
    {
     "data": {
      "text/markdown": [
       "<h3>Predicted Data</h3>"
      ],
      "text/plain": [
       "<IPython.core.display.Markdown object>"
      ]
     },
     "metadata": {},
     "output_type": "display_data"
    },
    {
     "data": {
      "image/png": "[encoded data removed]",
      "text/plain": [
       "<Figure size 360x360 with 1 Axes>"
      ]
     },
     "metadata": {},
     "output_type": "display_data"
    },
    {
     "data": {
      "image/png": "[encoded data removed]",
      "text/plain": [
       "<Figure size 432x288 with 1 Axes>"
      ]
     },
     "metadata": {
      "needs_background": "light"
     },
     "output_type": "display_data"
    }
   ],
   "source": [
    "classifier_fun()"
   ]
  },
  {
   "cell_type": "markdown",
   "metadata": {},
   "source": [
    "# MLP CLASSIFIER"
   ]
  },
  {
   "cell_type": "code",
   "execution_count": 144,
   "metadata": {},
   "outputs": [],
   "source": [
    "X_test_normal = X_test.copy()\n",
    "X_train_normal= X_train.copy()\n",
    "y_test_normal = y_test.copy()\n",
    "y_train_normal= y_train.copy()"
   ]
  },
  {
   "cell_type": "code",
   "execution_count": 146,
   "metadata": {},
   "outputs": [
    {
     "data": {
      "text/markdown": [
       "<h1>Accuracy Report</h1>"
      ],
      "text/plain": [
       "<IPython.core.display.Markdown object>"
      ]
     },
     "metadata": {},
     "output_type": "display_data"
    },
    {
     "name": "stdout",
     "output_type": "stream",
     "text": [
      "Average Accuracy 60.11904761904761\n",
      "Training Accuracy 59.369570613055345\n",
      "Test Accuracy 60.11904761904761\n",
      "Log_Los 13.774396140023628\n"
     ]
    },
    {
     "data": {
      "text/markdown": [
       "<h1>Classification report</h1>"
      ],
      "text/plain": [
       "<IPython.core.display.Markdown object>"
      ]
     },
     "metadata": {},
     "output_type": "display_data"
    },
    {
     "name": "stdout",
     "output_type": "stream",
     "text": [
      "              precision    recall  f1-score   support\n",
      "\n",
      "           0       0.60      0.99      0.75       609\n",
      "           1       0.20      0.00      0.00       399\n",
      "\n",
      "    accuracy                           0.60      1008\n",
      "   macro avg       0.40      0.50      0.38      1008\n",
      "weighted avg       0.44      0.60      0.46      1008\n",
      "\n"
     ]
    },
    {
     "data": {
      "text/markdown": [
       "<h3>Test Data</h3>"
      ],
      "text/plain": [
       "<IPython.core.display.Markdown object>"
      ]
     },
     "metadata": {},
     "output_type": "display_data"
    },
    {
     "data": {
      "image/png": "[encoded data removed]",
      "text/plain": [
       "<Figure size 360x360 with 1 Axes>"
      ]
     },
     "metadata": {},
     "output_type": "display_data"
    },
    {
     "data": {
      "text/markdown": [
       "<h3>Predicted Data</h3>"
      ],
      "text/plain": [
       "<IPython.core.display.Markdown object>"
      ]
     },
     "metadata": {},
     "output_type": "display_data"
    },
    {
     "data": {
      "image/png": "[encoded data removed]",
      "text/plain": [
       "<Figure size 360x360 with 1 Axes>"
      ]
     },
     "metadata": {},
     "output_type": "display_data"
    },
    {
     "data": {
      "text/markdown": [
       "<h1>Confusion Matrix-Normalized</h1>"
      ],
      "text/plain": [
       "<IPython.core.display.Markdown object>"
      ]
     },
     "metadata": {},
     "output_type": "display_data"
    },
    {
     "name": "stdout",
     "output_type": "stream",
     "text": [
      "Confusion Matrix \n",
      "[[605   4]\n",
      " [398   1]]\n"
     ]
    },
    {
     "data": {
      "image/png": "[encoded data removed]",
      "text/plain": [
       "<Figure size 432x288 with 2 Axes>"
      ]
     },
     "metadata": {
      "needs_background": "light"
     },
     "output_type": "display_data"
    }
   ],
   "source": [
    "neural_network=MLPClassifier(activation='logistic',solver='adam',hidden_layer_sizes=200,max_iter=400)\n",
    "neural_network.fit(X_train_normal,y_train_normal)\n",
    "nn_predict=neural_network.predict(X_test_normal)\n",
    "display(Markdown(f\"<h1>Accuracy Report</h1>\"))\n",
    "print(\"Average Accuracy \"+str(accuracy_score(y_test_normal,nn_predict.reshape(-1,1))*100))\n",
    "print(\"Training Accuracy \"+str(neural_network.score(X_train_normal,y_train_normal)*100))  \n",
    "print(\"Test Accuracy \"+str(neural_network.score(X_test_normal,y_test_normal)*100))\n",
    "print(\"Log_Los \"+str(log_loss(y_test_normal,nn_predict.reshape(-1,1)*100)))\n",
    "cm = confusion_matrix(y_test_normal,nn_predict)\n",
    "display(Markdown(f\"<h1>Classification report</h1>\"))\n",
    "print(classification_report(y_test_normal,nn_predict.reshape(-1,1)))\n",
    "\n",
    "dec_tree_clf_predict_pis = pd.Series(nn_predict)\n",
    "figure_1,ax_1 = plt.subplots(1,1,figsize=(5,5))\n",
    "display(Markdown(f\"<h3>Test Data</h3>\"))\n",
    "ax_1.pie(pd.Series(y_test_normal).value_counts(),labels=['Not-Churned','Churned'],autopct='%1.1f%%', shadow=True,explode=(0,0.1))\n",
    "plt.show()\n",
    "figure_1,ax_1 = plt.subplots(1,1,figsize=(5,5))\n",
    "display(Markdown(f\"<h3>Predicted Data</h3>\"))\n",
    "ax_1.pie(dec_tree_clf_predict_pis.value_counts(),labels=['Not-Churned','Churned'],autopct='%1.1f%%', shadow=True,explode=(0,0.1))\n",
    "plt.show()\n",
    "display(Markdown(f\"<h1>Confusion Matrix-Normalized</h1>\"))\n",
    "print(\"Confusion Matrix \\n\"+str(cm))\n",
    "skplt.metrics.plot_confusion_matrix(y_test_normal,nn_predict.reshape(-1,1),normalize=True)\n",
    "plt.show()"
   ]
  },
  {
   "cell_type": "code",
   "execution_count": null,
   "metadata": {},
   "outputs": [],
   "source": []
  }
 ],
 "metadata": {
  "kernelspec": {
   "display_name": "Python 3",
   "language": "python",
   "name": "python3"
  },
  "language_info": {
   "codemirror_mode": {
    "name": "ipython",
    "version": 3
   },
   "file_extension": ".py",
   "mimetype": "text/x-python",
   "name": "python",
   "nbconvert_exporter": "python",
   "pygments_lexer": "ipython3",
   "version": "3.7.4"
  }
 },
 "nbformat": 4,
 "nbformat_minor": 2
}
