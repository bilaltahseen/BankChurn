{
 "cells": [
  {
   "cell_type": "markdown",
   "metadata": {},
   "source": [
    "# Bank Chrun Analysis Model Using Scikit-Learn"
   ]
  },
  {
   "cell_type": "markdown",
   "metadata": {},
   "source": [
    "## Importing Required Modules"
   ]
  },
  {
   "cell_type": "code",
   "execution_count": 37,
   "metadata": {},
   "outputs": [],
   "source": [
    "import pandas as pd\n",
    "import numpy as np\n",
    "import seaborn as ses\n",
    "import matplotlib.pyplot as plt\n",
    "from sklearn.model_selection import train_test_split,learning_curve\n",
    "from sklearn.preprocessing import StandardScaler,normalize\n",
    "from sklearn import preprocessing\n",
    "from sklearn.metrics import confusion_matrix,classification_report,accuracy_score,log_loss,balanced_accuracy_score\n",
    "from sklearn.model_selection import validation_curve,learning_curve\n",
    "from sklearn import tree\n",
    "from sklearn.tree import DecisionTreeClassifier\n",
    "from sklearn.tree import export_graphviz\n",
    "import graphviz\n",
    "from sklearn.ensemble import RandomForestClassifier\n",
    "from sklearn.externals.six import StringIO  \n",
    "from IPython.display import Image,Markdown,display\n",
    "import pydot\n",
    "import random\n",
    "from subprocess import call\n",
    "import scikitplot as skplt\n",
    "import sys\n",
    "import cgi\n",
    "from time import sleep\n",
    "%matplotlib inline"
   ]
  },
  {
   "cell_type": "markdown",
   "metadata": {},
   "source": [
    "# Preprocessing"
   ]
  },
  {
   "cell_type": "markdown",
   "metadata": {},
   "source": [
    "## Getting information from CSV file"
   ]
  },
  {
   "cell_type": "code",
   "execution_count": 2,
   "metadata": {},
   "outputs": [
    {
     "data": {
      "text/html": [
       "<div>\n",
       "<style scoped>\n",
       "    .dataframe tbody tr th:only-of-type {\n",
       "        vertical-align: middle;\n",
       "    }\n",
       "\n",
       "    .dataframe tbody tr th {\n",
       "        vertical-align: top;\n",
       "    }\n",
       "\n",
       "    .dataframe thead th {\n",
       "        text-align: right;\n",
       "    }\n",
       "</style>\n",
       "<table border=\"1\" class=\"dataframe\">\n",
       "  <thead>\n",
       "    <tr style=\"text-align: right;\">\n",
       "      <th></th>\n",
       "      <th>RowNumber</th>\n",
       "      <th>CustomerId</th>\n",
       "      <th>Surname</th>\n",
       "      <th>CreditScore</th>\n",
       "      <th>Geography</th>\n",
       "      <th>Gender</th>\n",
       "      <th>Age</th>\n",
       "      <th>Tenure</th>\n",
       "      <th>Balance</th>\n",
       "      <th>NumOfProducts</th>\n",
       "      <th>HasCrCard</th>\n",
       "      <th>IsActiveMember</th>\n",
       "      <th>EstimatedSalary</th>\n",
       "      <th>Exited</th>\n",
       "    </tr>\n",
       "  </thead>\n",
       "  <tbody>\n",
       "    <tr>\n",
       "      <td>0</td>\n",
       "      <td>1</td>\n",
       "      <td>15634602</td>\n",
       "      <td>Hargrave</td>\n",
       "      <td>619</td>\n",
       "      <td>France</td>\n",
       "      <td>Female</td>\n",
       "      <td>42</td>\n",
       "      <td>2</td>\n",
       "      <td>0.00</td>\n",
       "      <td>1</td>\n",
       "      <td>1</td>\n",
       "      <td>1</td>\n",
       "      <td>101348.88</td>\n",
       "      <td>1</td>\n",
       "    </tr>\n",
       "    <tr>\n",
       "      <td>1</td>\n",
       "      <td>2</td>\n",
       "      <td>15647311</td>\n",
       "      <td>Hill</td>\n",
       "      <td>608</td>\n",
       "      <td>Spain</td>\n",
       "      <td>Female</td>\n",
       "      <td>41</td>\n",
       "      <td>1</td>\n",
       "      <td>83807.86</td>\n",
       "      <td>1</td>\n",
       "      <td>0</td>\n",
       "      <td>1</td>\n",
       "      <td>112542.58</td>\n",
       "      <td>0</td>\n",
       "    </tr>\n",
       "    <tr>\n",
       "      <td>2</td>\n",
       "      <td>3</td>\n",
       "      <td>15619304</td>\n",
       "      <td>Onio</td>\n",
       "      <td>502</td>\n",
       "      <td>France</td>\n",
       "      <td>Female</td>\n",
       "      <td>42</td>\n",
       "      <td>8</td>\n",
       "      <td>159660.80</td>\n",
       "      <td>3</td>\n",
       "      <td>1</td>\n",
       "      <td>0</td>\n",
       "      <td>113931.57</td>\n",
       "      <td>1</td>\n",
       "    </tr>\n",
       "    <tr>\n",
       "      <td>3</td>\n",
       "      <td>4</td>\n",
       "      <td>15701354</td>\n",
       "      <td>Boni</td>\n",
       "      <td>699</td>\n",
       "      <td>France</td>\n",
       "      <td>Female</td>\n",
       "      <td>39</td>\n",
       "      <td>1</td>\n",
       "      <td>0.00</td>\n",
       "      <td>2</td>\n",
       "      <td>0</td>\n",
       "      <td>0</td>\n",
       "      <td>93826.63</td>\n",
       "      <td>0</td>\n",
       "    </tr>\n",
       "    <tr>\n",
       "      <td>4</td>\n",
       "      <td>5</td>\n",
       "      <td>15737888</td>\n",
       "      <td>Mitchell</td>\n",
       "      <td>850</td>\n",
       "      <td>Spain</td>\n",
       "      <td>Female</td>\n",
       "      <td>43</td>\n",
       "      <td>2</td>\n",
       "      <td>125510.82</td>\n",
       "      <td>1</td>\n",
       "      <td>1</td>\n",
       "      <td>1</td>\n",
       "      <td>79084.10</td>\n",
       "      <td>0</td>\n",
       "    </tr>\n",
       "    <tr>\n",
       "      <td>...</td>\n",
       "      <td>...</td>\n",
       "      <td>...</td>\n",
       "      <td>...</td>\n",
       "      <td>...</td>\n",
       "      <td>...</td>\n",
       "      <td>...</td>\n",
       "      <td>...</td>\n",
       "      <td>...</td>\n",
       "      <td>...</td>\n",
       "      <td>...</td>\n",
       "      <td>...</td>\n",
       "      <td>...</td>\n",
       "      <td>...</td>\n",
       "      <td>...</td>\n",
       "    </tr>\n",
       "    <tr>\n",
       "      <td>9995</td>\n",
       "      <td>9996</td>\n",
       "      <td>15606229</td>\n",
       "      <td>Obijiaku</td>\n",
       "      <td>771</td>\n",
       "      <td>France</td>\n",
       "      <td>Male</td>\n",
       "      <td>39</td>\n",
       "      <td>5</td>\n",
       "      <td>0.00</td>\n",
       "      <td>2</td>\n",
       "      <td>1</td>\n",
       "      <td>0</td>\n",
       "      <td>96270.64</td>\n",
       "      <td>0</td>\n",
       "    </tr>\n",
       "    <tr>\n",
       "      <td>9996</td>\n",
       "      <td>9997</td>\n",
       "      <td>15569892</td>\n",
       "      <td>Johnstone</td>\n",
       "      <td>516</td>\n",
       "      <td>France</td>\n",
       "      <td>Male</td>\n",
       "      <td>35</td>\n",
       "      <td>10</td>\n",
       "      <td>57369.61</td>\n",
       "      <td>1</td>\n",
       "      <td>1</td>\n",
       "      <td>1</td>\n",
       "      <td>101699.77</td>\n",
       "      <td>0</td>\n",
       "    </tr>\n",
       "    <tr>\n",
       "      <td>9997</td>\n",
       "      <td>9998</td>\n",
       "      <td>15584532</td>\n",
       "      <td>Liu</td>\n",
       "      <td>709</td>\n",
       "      <td>France</td>\n",
       "      <td>Female</td>\n",
       "      <td>36</td>\n",
       "      <td>7</td>\n",
       "      <td>0.00</td>\n",
       "      <td>1</td>\n",
       "      <td>0</td>\n",
       "      <td>1</td>\n",
       "      <td>42085.58</td>\n",
       "      <td>1</td>\n",
       "    </tr>\n",
       "    <tr>\n",
       "      <td>9998</td>\n",
       "      <td>9999</td>\n",
       "      <td>15682355</td>\n",
       "      <td>Sabbatini</td>\n",
       "      <td>772</td>\n",
       "      <td>Germany</td>\n",
       "      <td>Male</td>\n",
       "      <td>42</td>\n",
       "      <td>3</td>\n",
       "      <td>75075.31</td>\n",
       "      <td>2</td>\n",
       "      <td>1</td>\n",
       "      <td>0</td>\n",
       "      <td>92888.52</td>\n",
       "      <td>1</td>\n",
       "    </tr>\n",
       "    <tr>\n",
       "      <td>9999</td>\n",
       "      <td>10000</td>\n",
       "      <td>15628319</td>\n",
       "      <td>Walker</td>\n",
       "      <td>792</td>\n",
       "      <td>France</td>\n",
       "      <td>Female</td>\n",
       "      <td>28</td>\n",
       "      <td>4</td>\n",
       "      <td>130142.79</td>\n",
       "      <td>1</td>\n",
       "      <td>1</td>\n",
       "      <td>0</td>\n",
       "      <td>38190.78</td>\n",
       "      <td>0</td>\n",
       "    </tr>\n",
       "  </tbody>\n",
       "</table>\n",
       "<p>10000 rows × 14 columns</p>\n",
       "</div>"
      ],
      "text/plain": [
       "      RowNumber  CustomerId    Surname  CreditScore Geography  Gender  Age  \\\n",
       "0             1    15634602   Hargrave          619    France  Female   42   \n",
       "1             2    15647311       Hill          608     Spain  Female   41   \n",
       "2             3    15619304       Onio          502    France  Female   42   \n",
       "3             4    15701354       Boni          699    France  Female   39   \n",
       "4             5    15737888   Mitchell          850     Spain  Female   43   \n",
       "...         ...         ...        ...          ...       ...     ...  ...   \n",
       "9995       9996    15606229   Obijiaku          771    France    Male   39   \n",
       "9996       9997    15569892  Johnstone          516    France    Male   35   \n",
       "9997       9998    15584532        Liu          709    France  Female   36   \n",
       "9998       9999    15682355  Sabbatini          772   Germany    Male   42   \n",
       "9999      10000    15628319     Walker          792    France  Female   28   \n",
       "\n",
       "      Tenure    Balance  NumOfProducts  HasCrCard  IsActiveMember  \\\n",
       "0          2       0.00              1          1               1   \n",
       "1          1   83807.86              1          0               1   \n",
       "2          8  159660.80              3          1               0   \n",
       "3          1       0.00              2          0               0   \n",
       "4          2  125510.82              1          1               1   \n",
       "...      ...        ...            ...        ...             ...   \n",
       "9995       5       0.00              2          1               0   \n",
       "9996      10   57369.61              1          1               1   \n",
       "9997       7       0.00              1          0               1   \n",
       "9998       3   75075.31              2          1               0   \n",
       "9999       4  130142.79              1          1               0   \n",
       "\n",
       "      EstimatedSalary  Exited  \n",
       "0           101348.88       1  \n",
       "1           112542.58       0  \n",
       "2           113931.57       1  \n",
       "3            93826.63       0  \n",
       "4            79084.10       0  \n",
       "...               ...     ...  \n",
       "9995         96270.64       0  \n",
       "9996        101699.77       0  \n",
       "9997         42085.58       1  \n",
       "9998         92888.52       1  \n",
       "9999         38190.78       0  \n",
       "\n",
       "[10000 rows x 14 columns]"
      ]
     },
     "execution_count": 2,
     "metadata": {},
     "output_type": "execute_result"
    }
   ],
   "source": [
    "data_frame = pd.read_csv('Churn_Modelling.csv')\n",
    "data_frame"
   ]
  },
  {
   "cell_type": "markdown",
   "metadata": {},
   "source": [
    "# Resampling "
   ]
  },
  {
   "cell_type": "code",
   "execution_count": 3,
   "metadata": {},
   "outputs": [],
   "source": [
    "df_majority = data_frame[data_frame.Exited==0]\n",
    "df_minority = data_frame[data_frame.Exited==1]\n",
    "new_data=df_majority.sample(n=3000)\n",
    "churn_data_set = pd.concat([df_minority,new_data],axis='rows')\n",
    "data_frame=churn_data_set"
   ]
  },
  {
   "cell_type": "code",
   "execution_count": 4,
   "metadata": {},
   "outputs": [
    {
     "data": {
      "text/html": [
       "<div>\n",
       "<style scoped>\n",
       "    .dataframe tbody tr th:only-of-type {\n",
       "        vertical-align: middle;\n",
       "    }\n",
       "\n",
       "    .dataframe tbody tr th {\n",
       "        vertical-align: top;\n",
       "    }\n",
       "\n",
       "    .dataframe thead th {\n",
       "        text-align: right;\n",
       "    }\n",
       "</style>\n",
       "<table border=\"1\" class=\"dataframe\">\n",
       "  <thead>\n",
       "    <tr style=\"text-align: right;\">\n",
       "      <th></th>\n",
       "      <th>RowNumber</th>\n",
       "      <th>CustomerId</th>\n",
       "      <th>Surname</th>\n",
       "      <th>CreditScore</th>\n",
       "      <th>Geography</th>\n",
       "      <th>Gender</th>\n",
       "      <th>Age</th>\n",
       "      <th>Tenure</th>\n",
       "      <th>Balance</th>\n",
       "      <th>NumOfProducts</th>\n",
       "      <th>HasCrCard</th>\n",
       "      <th>IsActiveMember</th>\n",
       "      <th>EstimatedSalary</th>\n",
       "      <th>Exited</th>\n",
       "    </tr>\n",
       "  </thead>\n",
       "  <tbody>\n",
       "    <tr>\n",
       "      <td>0</td>\n",
       "      <td>1</td>\n",
       "      <td>15634602</td>\n",
       "      <td>Hargrave</td>\n",
       "      <td>619</td>\n",
       "      <td>France</td>\n",
       "      <td>Female</td>\n",
       "      <td>42</td>\n",
       "      <td>2</td>\n",
       "      <td>0.00</td>\n",
       "      <td>1</td>\n",
       "      <td>1</td>\n",
       "      <td>1</td>\n",
       "      <td>101348.88</td>\n",
       "      <td>1</td>\n",
       "    </tr>\n",
       "    <tr>\n",
       "      <td>2</td>\n",
       "      <td>3</td>\n",
       "      <td>15619304</td>\n",
       "      <td>Onio</td>\n",
       "      <td>502</td>\n",
       "      <td>France</td>\n",
       "      <td>Female</td>\n",
       "      <td>42</td>\n",
       "      <td>8</td>\n",
       "      <td>159660.80</td>\n",
       "      <td>3</td>\n",
       "      <td>1</td>\n",
       "      <td>0</td>\n",
       "      <td>113931.57</td>\n",
       "      <td>1</td>\n",
       "    </tr>\n",
       "    <tr>\n",
       "      <td>5</td>\n",
       "      <td>6</td>\n",
       "      <td>15574012</td>\n",
       "      <td>Chu</td>\n",
       "      <td>645</td>\n",
       "      <td>Spain</td>\n",
       "      <td>Male</td>\n",
       "      <td>44</td>\n",
       "      <td>8</td>\n",
       "      <td>113755.78</td>\n",
       "      <td>2</td>\n",
       "      <td>1</td>\n",
       "      <td>0</td>\n",
       "      <td>149756.71</td>\n",
       "      <td>1</td>\n",
       "    </tr>\n",
       "    <tr>\n",
       "      <td>7</td>\n",
       "      <td>8</td>\n",
       "      <td>15656148</td>\n",
       "      <td>Obinna</td>\n",
       "      <td>376</td>\n",
       "      <td>Germany</td>\n",
       "      <td>Female</td>\n",
       "      <td>29</td>\n",
       "      <td>4</td>\n",
       "      <td>115046.74</td>\n",
       "      <td>4</td>\n",
       "      <td>1</td>\n",
       "      <td>0</td>\n",
       "      <td>119346.88</td>\n",
       "      <td>1</td>\n",
       "    </tr>\n",
       "    <tr>\n",
       "      <td>16</td>\n",
       "      <td>17</td>\n",
       "      <td>15737452</td>\n",
       "      <td>Romeo</td>\n",
       "      <td>653</td>\n",
       "      <td>Germany</td>\n",
       "      <td>Male</td>\n",
       "      <td>58</td>\n",
       "      <td>1</td>\n",
       "      <td>132602.88</td>\n",
       "      <td>1</td>\n",
       "      <td>1</td>\n",
       "      <td>0</td>\n",
       "      <td>5097.67</td>\n",
       "      <td>1</td>\n",
       "    </tr>\n",
       "    <tr>\n",
       "      <td>...</td>\n",
       "      <td>...</td>\n",
       "      <td>...</td>\n",
       "      <td>...</td>\n",
       "      <td>...</td>\n",
       "      <td>...</td>\n",
       "      <td>...</td>\n",
       "      <td>...</td>\n",
       "      <td>...</td>\n",
       "      <td>...</td>\n",
       "      <td>...</td>\n",
       "      <td>...</td>\n",
       "      <td>...</td>\n",
       "      <td>...</td>\n",
       "      <td>...</td>\n",
       "    </tr>\n",
       "    <tr>\n",
       "      <td>354</td>\n",
       "      <td>355</td>\n",
       "      <td>15625461</td>\n",
       "      <td>Amos</td>\n",
       "      <td>613</td>\n",
       "      <td>France</td>\n",
       "      <td>Female</td>\n",
       "      <td>45</td>\n",
       "      <td>1</td>\n",
       "      <td>187841.99</td>\n",
       "      <td>2</td>\n",
       "      <td>1</td>\n",
       "      <td>1</td>\n",
       "      <td>147224.27</td>\n",
       "      <td>0</td>\n",
       "    </tr>\n",
       "    <tr>\n",
       "      <td>2083</td>\n",
       "      <td>2084</td>\n",
       "      <td>15779738</td>\n",
       "      <td>Buccho</td>\n",
       "      <td>534</td>\n",
       "      <td>France</td>\n",
       "      <td>Male</td>\n",
       "      <td>24</td>\n",
       "      <td>1</td>\n",
       "      <td>0.00</td>\n",
       "      <td>1</td>\n",
       "      <td>1</td>\n",
       "      <td>1</td>\n",
       "      <td>169653.32</td>\n",
       "      <td>0</td>\n",
       "    </tr>\n",
       "    <tr>\n",
       "      <td>5642</td>\n",
       "      <td>5643</td>\n",
       "      <td>15737778</td>\n",
       "      <td>Dickson</td>\n",
       "      <td>782</td>\n",
       "      <td>Spain</td>\n",
       "      <td>Female</td>\n",
       "      <td>41</td>\n",
       "      <td>4</td>\n",
       "      <td>0.00</td>\n",
       "      <td>1</td>\n",
       "      <td>1</td>\n",
       "      <td>0</td>\n",
       "      <td>132943.88</td>\n",
       "      <td>0</td>\n",
       "    </tr>\n",
       "    <tr>\n",
       "      <td>1270</td>\n",
       "      <td>1271</td>\n",
       "      <td>15671322</td>\n",
       "      <td>Chiang</td>\n",
       "      <td>724</td>\n",
       "      <td>Germany</td>\n",
       "      <td>Male</td>\n",
       "      <td>30</td>\n",
       "      <td>7</td>\n",
       "      <td>115315.04</td>\n",
       "      <td>1</td>\n",
       "      <td>1</td>\n",
       "      <td>0</td>\n",
       "      <td>15216.53</td>\n",
       "      <td>0</td>\n",
       "    </tr>\n",
       "    <tr>\n",
       "      <td>9243</td>\n",
       "      <td>9244</td>\n",
       "      <td>15815534</td>\n",
       "      <td>Guidry</td>\n",
       "      <td>505</td>\n",
       "      <td>Spain</td>\n",
       "      <td>Male</td>\n",
       "      <td>37</td>\n",
       "      <td>0</td>\n",
       "      <td>134006.39</td>\n",
       "      <td>1</td>\n",
       "      <td>1</td>\n",
       "      <td>1</td>\n",
       "      <td>93736.69</td>\n",
       "      <td>0</td>\n",
       "    </tr>\n",
       "  </tbody>\n",
       "</table>\n",
       "<p>5037 rows × 14 columns</p>\n",
       "</div>"
      ],
      "text/plain": [
       "      RowNumber  CustomerId   Surname  CreditScore Geography  Gender  Age  \\\n",
       "0             1    15634602  Hargrave          619    France  Female   42   \n",
       "2             3    15619304      Onio          502    France  Female   42   \n",
       "5             6    15574012       Chu          645     Spain    Male   44   \n",
       "7             8    15656148    Obinna          376   Germany  Female   29   \n",
       "16           17    15737452     Romeo          653   Germany    Male   58   \n",
       "...         ...         ...       ...          ...       ...     ...  ...   \n",
       "354         355    15625461      Amos          613    France  Female   45   \n",
       "2083       2084    15779738    Buccho          534    France    Male   24   \n",
       "5642       5643    15737778   Dickson          782     Spain  Female   41   \n",
       "1270       1271    15671322    Chiang          724   Germany    Male   30   \n",
       "9243       9244    15815534    Guidry          505     Spain    Male   37   \n",
       "\n",
       "      Tenure    Balance  NumOfProducts  HasCrCard  IsActiveMember  \\\n",
       "0          2       0.00              1          1               1   \n",
       "2          8  159660.80              3          1               0   \n",
       "5          8  113755.78              2          1               0   \n",
       "7          4  115046.74              4          1               0   \n",
       "16         1  132602.88              1          1               0   \n",
       "...      ...        ...            ...        ...             ...   \n",
       "354        1  187841.99              2          1               1   \n",
       "2083       1       0.00              1          1               1   \n",
       "5642       4       0.00              1          1               0   \n",
       "1270       7  115315.04              1          1               0   \n",
       "9243       0  134006.39              1          1               1   \n",
       "\n",
       "      EstimatedSalary  Exited  \n",
       "0           101348.88       1  \n",
       "2           113931.57       1  \n",
       "5           149756.71       1  \n",
       "7           119346.88       1  \n",
       "16            5097.67       1  \n",
       "...               ...     ...  \n",
       "354         147224.27       0  \n",
       "2083        169653.32       0  \n",
       "5642        132943.88       0  \n",
       "1270         15216.53       0  \n",
       "9243         93736.69       0  \n",
       "\n",
       "[5037 rows x 14 columns]"
      ]
     },
     "execution_count": 4,
     "metadata": {},
     "output_type": "execute_result"
    }
   ],
   "source": [
    "data_frame"
   ]
  },
  {
   "cell_type": "markdown",
   "metadata": {},
   "source": [
    "# Seprating the Numerical_features and Catagorical_features"
   ]
  },
  {
   "cell_type": "code",
   "execution_count": 5,
   "metadata": {},
   "outputs": [],
   "source": [
    "numerical_features = ['CreditScore','Age','Tenure','Balance','NumOfProducts','EstimatedSalary']\n",
    "catagorical_features = ['Geography','Gender','HasCrCard','IsActiveMember']\n",
    "numerical_features_data_set = data_frame[numerical_features]\n",
    "catagorical_features_data_set=data_frame[catagorical_features]"
   ]
  },
  {
   "cell_type": "markdown",
   "metadata": {},
   "source": [
    "## From the dataset the ratio of Chruned and Not-Chruned is"
   ]
  },
  {
   "cell_type": "code",
   "execution_count": 6,
   "metadata": {},
   "outputs": [
    {
     "data": {
      "image/png": "[encoded data removed]",
      "text/plain": [
       "<Figure size 360x360 with 1 Axes>"
      ]
     },
     "metadata": {},
     "output_type": "display_data"
    },
    {
     "data": {
      "text/plain": [
       "0    3000\n",
       "1    2037\n",
       "Name: Exited, dtype: int64"
      ]
     },
     "execution_count": 6,
     "metadata": {},
     "output_type": "execute_result"
    }
   ],
   "source": [
    "figure_1,ax_1 = plt.subplots(1,1,figsize=(5,5))\n",
    "ax_1.pie(data_frame['Exited'].value_counts(),labels=['Not-Churned','Churned'],autopct='%1.1f%%', shadow=True,explode=(0,0.1))\n",
    "plt.show()\n",
    "data_frame['Exited'].value_counts()"
   ]
  },
  {
   "cell_type": "markdown",
   "metadata": {},
   "source": [
    "### Now as you can see that the dataset consist of highly varying numerical attributes "
   ]
  },
  {
   "cell_type": "code",
   "execution_count": 7,
   "metadata": {},
   "outputs": [
    {
     "data": {
      "image/png": "[encoded data removed]",
      "text/plain": [
       "<Figure size 720x720 with 6 Axes>"
      ]
     },
     "metadata": {
      "needs_background": "light"
     },
     "output_type": "display_data"
    }
   ],
   "source": [
    "kwargs = dict(alpha=1, bins=50,figsize=(10,10))\n",
    "data_frame[numerical_features].hist(**kwargs)\n",
    "plt.show()"
   ]
  },
  {
   "cell_type": "markdown",
   "metadata": {},
   "source": [
    "### Since the data features might not be enoughed for our classifier lets add more columns to it \n",
    "Make to more coloumns, we have taken CreditScore/No.of Products and Balance/CreditScore"
   ]
  },
  {
   "cell_type": "code",
   "execution_count": 8,
   "metadata": {},
   "outputs": [
    {
     "name": "stderr",
     "output_type": "stream",
     "text": [
      "g:\\programs\\python\\python37\\lib\\site-packages\\ipykernel_launcher.py:1: SettingWithCopyWarning: \n",
      "A value is trying to be set on a copy of a slice from a DataFrame.\n",
      "Try using .loc[row_indexer,col_indexer] = value instead\n",
      "\n",
      "See the caveats in the documentation: http://pandas.pydata.org/pandas-docs/stable/user_guide/indexing.html#returning-a-view-versus-a-copy\n",
      "  \"\"\"Entry point for launching an IPython kernel.\n",
      "g:\\programs\\python\\python37\\lib\\site-packages\\ipykernel_launcher.py:2: SettingWithCopyWarning: \n",
      "A value is trying to be set on a copy of a slice from a DataFrame.\n",
      "Try using .loc[row_indexer,col_indexer] = value instead\n",
      "\n",
      "See the caveats in the documentation: http://pandas.pydata.org/pandas-docs/stable/user_guide/indexing.html#returning-a-view-versus-a-copy\n",
      "  \n"
     ]
    },
    {
     "data": {
      "text/html": [
       "<div>\n",
       "<style scoped>\n",
       "    .dataframe tbody tr th:only-of-type {\n",
       "        vertical-align: middle;\n",
       "    }\n",
       "\n",
       "    .dataframe tbody tr th {\n",
       "        vertical-align: top;\n",
       "    }\n",
       "\n",
       "    .dataframe thead th {\n",
       "        text-align: right;\n",
       "    }\n",
       "</style>\n",
       "<table border=\"1\" class=\"dataframe\">\n",
       "  <thead>\n",
       "    <tr style=\"text-align: right;\">\n",
       "      <th></th>\n",
       "      <th>CreditScore</th>\n",
       "      <th>Age</th>\n",
       "      <th>Tenure</th>\n",
       "      <th>Balance</th>\n",
       "      <th>NumOfProducts</th>\n",
       "      <th>EstimatedSalary</th>\n",
       "      <th>CRS_to_PROD</th>\n",
       "      <th>BAL_to_CRS</th>\n",
       "    </tr>\n",
       "  </thead>\n",
       "  <tbody>\n",
       "    <tr>\n",
       "      <td>0</td>\n",
       "      <td>619</td>\n",
       "      <td>42</td>\n",
       "      <td>2</td>\n",
       "      <td>0.00</td>\n",
       "      <td>1</td>\n",
       "      <td>101348.88</td>\n",
       "      <td>619.000000</td>\n",
       "      <td>0.000000</td>\n",
       "    </tr>\n",
       "    <tr>\n",
       "      <td>2</td>\n",
       "      <td>502</td>\n",
       "      <td>42</td>\n",
       "      <td>8</td>\n",
       "      <td>159660.80</td>\n",
       "      <td>3</td>\n",
       "      <td>113931.57</td>\n",
       "      <td>167.333333</td>\n",
       "      <td>318.049402</td>\n",
       "    </tr>\n",
       "    <tr>\n",
       "      <td>5</td>\n",
       "      <td>645</td>\n",
       "      <td>44</td>\n",
       "      <td>8</td>\n",
       "      <td>113755.78</td>\n",
       "      <td>2</td>\n",
       "      <td>149756.71</td>\n",
       "      <td>322.500000</td>\n",
       "      <td>176.365550</td>\n",
       "    </tr>\n",
       "    <tr>\n",
       "      <td>7</td>\n",
       "      <td>376</td>\n",
       "      <td>29</td>\n",
       "      <td>4</td>\n",
       "      <td>115046.74</td>\n",
       "      <td>4</td>\n",
       "      <td>119346.88</td>\n",
       "      <td>94.000000</td>\n",
       "      <td>305.975372</td>\n",
       "    </tr>\n",
       "    <tr>\n",
       "      <td>16</td>\n",
       "      <td>653</td>\n",
       "      <td>58</td>\n",
       "      <td>1</td>\n",
       "      <td>132602.88</td>\n",
       "      <td>1</td>\n",
       "      <td>5097.67</td>\n",
       "      <td>653.000000</td>\n",
       "      <td>203.067198</td>\n",
       "    </tr>\n",
       "    <tr>\n",
       "      <td>...</td>\n",
       "      <td>...</td>\n",
       "      <td>...</td>\n",
       "      <td>...</td>\n",
       "      <td>...</td>\n",
       "      <td>...</td>\n",
       "      <td>...</td>\n",
       "      <td>...</td>\n",
       "      <td>...</td>\n",
       "    </tr>\n",
       "    <tr>\n",
       "      <td>354</td>\n",
       "      <td>613</td>\n",
       "      <td>45</td>\n",
       "      <td>1</td>\n",
       "      <td>187841.99</td>\n",
       "      <td>2</td>\n",
       "      <td>147224.27</td>\n",
       "      <td>306.500000</td>\n",
       "      <td>306.430653</td>\n",
       "    </tr>\n",
       "    <tr>\n",
       "      <td>2083</td>\n",
       "      <td>534</td>\n",
       "      <td>24</td>\n",
       "      <td>1</td>\n",
       "      <td>0.00</td>\n",
       "      <td>1</td>\n",
       "      <td>169653.32</td>\n",
       "      <td>534.000000</td>\n",
       "      <td>0.000000</td>\n",
       "    </tr>\n",
       "    <tr>\n",
       "      <td>5642</td>\n",
       "      <td>782</td>\n",
       "      <td>41</td>\n",
       "      <td>4</td>\n",
       "      <td>0.00</td>\n",
       "      <td>1</td>\n",
       "      <td>132943.88</td>\n",
       "      <td>782.000000</td>\n",
       "      <td>0.000000</td>\n",
       "    </tr>\n",
       "    <tr>\n",
       "      <td>1270</td>\n",
       "      <td>724</td>\n",
       "      <td>30</td>\n",
       "      <td>7</td>\n",
       "      <td>115315.04</td>\n",
       "      <td>1</td>\n",
       "      <td>15216.53</td>\n",
       "      <td>724.000000</td>\n",
       "      <td>159.274917</td>\n",
       "    </tr>\n",
       "    <tr>\n",
       "      <td>9243</td>\n",
       "      <td>505</td>\n",
       "      <td>37</td>\n",
       "      <td>0</td>\n",
       "      <td>134006.39</td>\n",
       "      <td>1</td>\n",
       "      <td>93736.69</td>\n",
       "      <td>505.000000</td>\n",
       "      <td>265.359188</td>\n",
       "    </tr>\n",
       "  </tbody>\n",
       "</table>\n",
       "<p>5037 rows × 8 columns</p>\n",
       "</div>"
      ],
      "text/plain": [
       "      CreditScore  Age  Tenure    Balance  NumOfProducts  EstimatedSalary  \\\n",
       "0             619   42       2       0.00              1        101348.88   \n",
       "2             502   42       8  159660.80              3        113931.57   \n",
       "5             645   44       8  113755.78              2        149756.71   \n",
       "7             376   29       4  115046.74              4        119346.88   \n",
       "16            653   58       1  132602.88              1          5097.67   \n",
       "...           ...  ...     ...        ...            ...              ...   \n",
       "354           613   45       1  187841.99              2        147224.27   \n",
       "2083          534   24       1       0.00              1        169653.32   \n",
       "5642          782   41       4       0.00              1        132943.88   \n",
       "1270          724   30       7  115315.04              1         15216.53   \n",
       "9243          505   37       0  134006.39              1         93736.69   \n",
       "\n",
       "      CRS_to_PROD  BAL_to_CRS  \n",
       "0      619.000000    0.000000  \n",
       "2      167.333333  318.049402  \n",
       "5      322.500000  176.365550  \n",
       "7       94.000000  305.975372  \n",
       "16     653.000000  203.067198  \n",
       "...           ...         ...  \n",
       "354    306.500000  306.430653  \n",
       "2083   534.000000    0.000000  \n",
       "5642   782.000000    0.000000  \n",
       "1270   724.000000  159.274917  \n",
       "9243   505.000000  265.359188  \n",
       "\n",
       "[5037 rows x 8 columns]"
      ]
     },
     "execution_count": 8,
     "metadata": {},
     "output_type": "execute_result"
    }
   ],
   "source": [
    "numerical_features_data_set['CRS_to_PROD'] = numerical_features_data_set['CreditScore']/numerical_features_data_set['NumOfProducts']\n",
    "numerical_features_data_set['BAL_to_CRS'] = numerical_features_data_set['Balance']/numerical_features_data_set['CreditScore']\n",
    "numerical_features_data_set"
   ]
  },
  {
   "cell_type": "markdown",
   "metadata": {},
   "source": [
    "# Now let's see the effect of numerical_features on Chrun"
   ]
  },
  {
   "cell_type": "code",
   "execution_count": 9,
   "metadata": {},
   "outputs": [
    {
     "data": {
      "image/png": "[encoded data removed]",
      "text/plain": [
       "<Figure size 864x864 with 6 Axes>"
      ]
     },
     "metadata": {
      "needs_background": "light"
     },
     "output_type": "display_data"
    },
    {
     "data": {
      "image/png": "[encoded data removed]",
      "text/plain": [
       "<Figure size 1008x288 with 4 Axes>"
      ]
     },
     "metadata": {
      "needs_background": "light"
     },
     "output_type": "display_data"
    }
   ],
   "source": [
    "fig_new,ax_new =plt.subplots(2,3,figsize=(12,12))\n",
    "data_frame[data_frame.Exited==1][numerical_features].hist(color='red',alpha=0.8,ax=ax_new,bins=30,label=\"Churned\")\n",
    "data_frame[data_frame.Exited==0][numerical_features].hist(color='blue',alpha=0.2,ax=ax_new,bins=30,label=\"not-Churned\")\n",
    "plt.legend()\n",
    "plt.show()\n",
    "\n",
    "feature = ['Geography','Gender','HasCrCard','IsActiveMember']\n",
    "fig, ax = plt.subplots(1, 4, figsize=(14, 4))\n",
    "for i in range(4):\n",
    "    \n",
    "    data_frame[data_frame.Exited == 1][feature[i]].value_counts().plot(kind=\"bar\", ax=ax[i]).set_title(\"Churned Plot For \"+str(feature[i]))"
   ]
  },
  {
   "cell_type": "markdown",
   "metadata": {},
   "source": [
    "Data contains string elements so we need to encode it to numerical ones before that lets seprate the target value from the dataset"
   ]
  },
  {
   "cell_type": "code",
   "execution_count": 10,
   "metadata": {},
   "outputs": [],
   "source": [
    "y = data_frame['Exited']\n",
    "data_frame = data_frame.drop(['RowNumber','CustomerId','Surname'],axis='columns')"
   ]
  },
  {
   "cell_type": "code",
   "execution_count": 11,
   "metadata": {},
   "outputs": [],
   "source": [
    "Gender_dummy = pd.get_dummies(catagorical_features_data_set.Gender)\n",
    "Geography_dummy = pd.get_dummies(catagorical_features_data_set.Geography)"
   ]
  },
  {
   "cell_type": "code",
   "execution_count": 27,
   "metadata": {
    "scrolled": false
   },
   "outputs": [],
   "source": [
    "final_data = pd.concat([numerical_features_data_set,Gender_dummy,Geography_dummy,catagorical_features_data_set.IsActiveMember,catagorical_features_data_set.HasCrCard],axis='columns') \n",
    "final_data=final_data.drop(['Male','Spain'],axis='columns')"
   ]
  },
  {
   "cell_type": "markdown",
   "metadata": {},
   "source": [
    "# Now let's split the data into training and testing"
   ]
  },
  {
   "cell_type": "code",
   "execution_count": 28,
   "metadata": {},
   "outputs": [],
   "source": [
    "y= data_frame['Exited']\n",
    "X = final_data\n",
    "X_train1,X_test1,y_train1,y_test1= train_test_split(X,y,test_size = 0.2,random_state=13)\n",
    "X_train = X_train1.to_numpy()\n",
    "X_test = X_test1.to_numpy()\n",
    "y_train = y_train1.to_numpy()\n",
    "y_test = y_test1.to_numpy()\n"
   ]
  },
  {
   "cell_type": "code",
   "execution_count": 24,
   "metadata": {},
   "outputs": [
    {
     "data": {
      "text/plain": [
       "0    609\n",
       "1    399\n",
       "Name: Exited, dtype: int64"
      ]
     },
     "execution_count": 24,
     "metadata": {},
     "output_type": "execute_result"
    }
   ],
   "source": [
    "y_test1.value_counts()"
   ]
  },
  {
   "cell_type": "code",
   "execution_count": 29,
   "metadata": {},
   "outputs": [
    {
     "data": {
      "text/html": [
       "<div>\n",
       "<style scoped>\n",
       "    .dataframe tbody tr th:only-of-type {\n",
       "        vertical-align: middle;\n",
       "    }\n",
       "\n",
       "    .dataframe tbody tr th {\n",
       "        vertical-align: top;\n",
       "    }\n",
       "\n",
       "    .dataframe thead th {\n",
       "        text-align: right;\n",
       "    }\n",
       "</style>\n",
       "<table border=\"1\" class=\"dataframe\">\n",
       "  <thead>\n",
       "    <tr style=\"text-align: right;\">\n",
       "      <th></th>\n",
       "      <th>CreditScore</th>\n",
       "      <th>Age</th>\n",
       "      <th>Tenure</th>\n",
       "      <th>Balance</th>\n",
       "      <th>NumOfProducts</th>\n",
       "      <th>EstimatedSalary</th>\n",
       "      <th>CRS_to_PROD</th>\n",
       "      <th>BAL_to_CRS</th>\n",
       "      <th>Female</th>\n",
       "      <th>France</th>\n",
       "      <th>Germany</th>\n",
       "      <th>IsActiveMember</th>\n",
       "      <th>HasCrCard</th>\n",
       "    </tr>\n",
       "  </thead>\n",
       "  <tbody>\n",
       "    <tr>\n",
       "      <td>8842</td>\n",
       "      <td>614</td>\n",
       "      <td>27</td>\n",
       "      <td>9</td>\n",
       "      <td>106414.57</td>\n",
       "      <td>2</td>\n",
       "      <td>77500.81</td>\n",
       "      <td>307.000000</td>\n",
       "      <td>173.313632</td>\n",
       "      <td>1</td>\n",
       "      <td>1</td>\n",
       "      <td>0</td>\n",
       "      <td>0</td>\n",
       "      <td>0</td>\n",
       "    </tr>\n",
       "    <tr>\n",
       "      <td>7567</td>\n",
       "      <td>629</td>\n",
       "      <td>44</td>\n",
       "      <td>5</td>\n",
       "      <td>0.00</td>\n",
       "      <td>4</td>\n",
       "      <td>117572.59</td>\n",
       "      <td>157.250000</td>\n",
       "      <td>0.000000</td>\n",
       "      <td>0</td>\n",
       "      <td>1</td>\n",
       "      <td>0</td>\n",
       "      <td>0</td>\n",
       "      <td>0</td>\n",
       "    </tr>\n",
       "    <tr>\n",
       "      <td>9167</td>\n",
       "      <td>607</td>\n",
       "      <td>26</td>\n",
       "      <td>1</td>\n",
       "      <td>0.00</td>\n",
       "      <td>1</td>\n",
       "      <td>29818.20</td>\n",
       "      <td>607.000000</td>\n",
       "      <td>0.000000</td>\n",
       "      <td>0</td>\n",
       "      <td>1</td>\n",
       "      <td>0</td>\n",
       "      <td>0</td>\n",
       "      <td>1</td>\n",
       "    </tr>\n",
       "    <tr>\n",
       "      <td>3935</td>\n",
       "      <td>728</td>\n",
       "      <td>45</td>\n",
       "      <td>3</td>\n",
       "      <td>108924.33</td>\n",
       "      <td>2</td>\n",
       "      <td>84300.40</td>\n",
       "      <td>364.000000</td>\n",
       "      <td>149.621332</td>\n",
       "      <td>0</td>\n",
       "      <td>0</td>\n",
       "      <td>1</td>\n",
       "      <td>0</td>\n",
       "      <td>1</td>\n",
       "    </tr>\n",
       "    <tr>\n",
       "      <td>743</td>\n",
       "      <td>611</td>\n",
       "      <td>49</td>\n",
       "      <td>2</td>\n",
       "      <td>88915.37</td>\n",
       "      <td>3</td>\n",
       "      <td>161435.02</td>\n",
       "      <td>203.666667</td>\n",
       "      <td>145.524337</td>\n",
       "      <td>1</td>\n",
       "      <td>1</td>\n",
       "      <td>0</td>\n",
       "      <td>0</td>\n",
       "      <td>0</td>\n",
       "    </tr>\n",
       "    <tr>\n",
       "      <td>...</td>\n",
       "      <td>...</td>\n",
       "      <td>...</td>\n",
       "      <td>...</td>\n",
       "      <td>...</td>\n",
       "      <td>...</td>\n",
       "      <td>...</td>\n",
       "      <td>...</td>\n",
       "      <td>...</td>\n",
       "      <td>...</td>\n",
       "      <td>...</td>\n",
       "      <td>...</td>\n",
       "      <td>...</td>\n",
       "      <td>...</td>\n",
       "    </tr>\n",
       "    <tr>\n",
       "      <td>5950</td>\n",
       "      <td>834</td>\n",
       "      <td>57</td>\n",
       "      <td>8</td>\n",
       "      <td>112281.60</td>\n",
       "      <td>3</td>\n",
       "      <td>140225.14</td>\n",
       "      <td>278.000000</td>\n",
       "      <td>134.630216</td>\n",
       "      <td>1</td>\n",
       "      <td>0</td>\n",
       "      <td>1</td>\n",
       "      <td>0</td>\n",
       "      <td>1</td>\n",
       "    </tr>\n",
       "    <tr>\n",
       "      <td>5056</td>\n",
       "      <td>767</td>\n",
       "      <td>23</td>\n",
       "      <td>2</td>\n",
       "      <td>139542.82</td>\n",
       "      <td>1</td>\n",
       "      <td>28038.28</td>\n",
       "      <td>767.000000</td>\n",
       "      <td>181.933272</td>\n",
       "      <td>0</td>\n",
       "      <td>0</td>\n",
       "      <td>1</td>\n",
       "      <td>1</td>\n",
       "      <td>0</td>\n",
       "    </tr>\n",
       "    <tr>\n",
       "      <td>4104</td>\n",
       "      <td>850</td>\n",
       "      <td>55</td>\n",
       "      <td>6</td>\n",
       "      <td>0.00</td>\n",
       "      <td>1</td>\n",
       "      <td>944.41</td>\n",
       "      <td>850.000000</td>\n",
       "      <td>0.000000</td>\n",
       "      <td>0</td>\n",
       "      <td>1</td>\n",
       "      <td>0</td>\n",
       "      <td>0</td>\n",
       "      <td>1</td>\n",
       "    </tr>\n",
       "    <tr>\n",
       "      <td>1078</td>\n",
       "      <td>677</td>\n",
       "      <td>41</td>\n",
       "      <td>8</td>\n",
       "      <td>146720.98</td>\n",
       "      <td>2</td>\n",
       "      <td>4195.84</td>\n",
       "      <td>338.500000</td>\n",
       "      <td>216.722275</td>\n",
       "      <td>1</td>\n",
       "      <td>0</td>\n",
       "      <td>1</td>\n",
       "      <td>1</td>\n",
       "      <td>1</td>\n",
       "    </tr>\n",
       "    <tr>\n",
       "      <td>7422</td>\n",
       "      <td>622</td>\n",
       "      <td>29</td>\n",
       "      <td>7</td>\n",
       "      <td>101486.96</td>\n",
       "      <td>1</td>\n",
       "      <td>8788.35</td>\n",
       "      <td>622.000000</td>\n",
       "      <td>163.162315</td>\n",
       "      <td>0</td>\n",
       "      <td>1</td>\n",
       "      <td>0</td>\n",
       "      <td>1</td>\n",
       "      <td>1</td>\n",
       "    </tr>\n",
       "  </tbody>\n",
       "</table>\n",
       "<p>1008 rows × 13 columns</p>\n",
       "</div>"
      ],
      "text/plain": [
       "      CreditScore  Age  Tenure    Balance  NumOfProducts  EstimatedSalary  \\\n",
       "8842          614   27       9  106414.57              2         77500.81   \n",
       "7567          629   44       5       0.00              4        117572.59   \n",
       "9167          607   26       1       0.00              1         29818.20   \n",
       "3935          728   45       3  108924.33              2         84300.40   \n",
       "743           611   49       2   88915.37              3        161435.02   \n",
       "...           ...  ...     ...        ...            ...              ...   \n",
       "5950          834   57       8  112281.60              3        140225.14   \n",
       "5056          767   23       2  139542.82              1         28038.28   \n",
       "4104          850   55       6       0.00              1           944.41   \n",
       "1078          677   41       8  146720.98              2          4195.84   \n",
       "7422          622   29       7  101486.96              1          8788.35   \n",
       "\n",
       "      CRS_to_PROD  BAL_to_CRS  Female  France  Germany  IsActiveMember  \\\n",
       "8842   307.000000  173.313632       1       1        0               0   \n",
       "7567   157.250000    0.000000       0       1        0               0   \n",
       "9167   607.000000    0.000000       0       1        0               0   \n",
       "3935   364.000000  149.621332       0       0        1               0   \n",
       "743    203.666667  145.524337       1       1        0               0   \n",
       "...           ...         ...     ...     ...      ...             ...   \n",
       "5950   278.000000  134.630216       1       0        1               0   \n",
       "5056   767.000000  181.933272       0       0        1               1   \n",
       "4104   850.000000    0.000000       0       1        0               0   \n",
       "1078   338.500000  216.722275       1       0        1               1   \n",
       "7422   622.000000  163.162315       0       1        0               1   \n",
       "\n",
       "      HasCrCard  \n",
       "8842          0  \n",
       "7567          0  \n",
       "9167          1  \n",
       "3935          1  \n",
       "743           0  \n",
       "...         ...  \n",
       "5950          1  \n",
       "5056          0  \n",
       "4104          1  \n",
       "1078          1  \n",
       "7422          1  \n",
       "\n",
       "[1008 rows x 13 columns]"
      ]
     },
     "execution_count": 29,
     "metadata": {},
     "output_type": "execute_result"
    }
   ],
   "source": [
    "X_test1"
   ]
  },
  {
   "cell_type": "code",
   "execution_count": 30,
   "metadata": {},
   "outputs": [
    {
     "data": {
      "text/plain": [
       "array(['Not_Churned', 'Churned', 'Not_Churned', ..., 'Churned',\n",
       "       'Not_Churned', 'Not_Churned'], dtype='<U21')"
      ]
     },
     "execution_count": 30,
     "metadata": {},
     "output_type": "execute_result"
    }
   ],
   "source": [
    "d = np.where(y_test==0, 'Not_Churned', y_test)\n",
    "labels=np.where(y_test==1,'Churned',d)\n",
    "labels"
   ]
  },
  {
   "cell_type": "markdown",
   "metadata": {},
   "source": [
    "# Now it's time to train our model usign classifier\n",
    "we will use DecisionTreeClassifier to train it"
   ]
  },
  {
   "cell_type": "code",
   "execution_count": 58,
   "metadata": {},
   "outputs": [],
   "source": [
    "try:\n",
    "    def training_curve(model):\n",
    "        train_sizes, train_scores, test_scores = learning_curve(RandomForestClassifier(max_leaf_nodes=model.max_leaf_nodes,max_features=model.max_features), \n",
    "                                                        X, \n",
    "                                                        y,\n",
    "                                                        # Number of folds in cross-validation\n",
    "                                                        cv=10,\n",
    "                                                        # Evaluation metric\n",
    "                                                        scoring='accuracy',\n",
    "                                                        # Use all computer cores\n",
    "                                                        n_jobs=-1, \n",
    "                                                        # 50 different sizes of the training set\n",
    "                                                        train_sizes=np.linspace(0.01, 1.0, 50))\n",
    "        # Create means and standard deviations of training set scores\n",
    "        train_mean = np.mean(train_scores, axis=1)\n",
    "        train_std = np.std(train_scores, axis=1)\n",
    "\n",
    "        # Create means and standard deviations of test set scores\n",
    "        test_mean = np.mean(test_scores, axis=1)\n",
    "        test_std = np.std(test_scores, axis=1)\n",
    "\n",
    "        # Draw lines\n",
    "        plt.plot(train_sizes, train_mean, '--', color=\"#111111\",  label=\"Training score\")\n",
    "        plt.plot(train_sizes, test_mean, color=\"#111111\", label=\"Cross-validation score\")\n",
    "\n",
    "        # Draw bands\n",
    "        plt.fill_between(train_sizes, train_mean - train_std, train_mean + train_std, color=\"#DDDDDD\")\n",
    "        plt.fill_between(train_sizes, test_mean - test_std, test_mean + test_std, color=\"#DDDDDD\")\n",
    "\n",
    "        # Create plot\n",
    "        plt.title(\"Learning Curve\")\n",
    "        plt.xlabel(\"Training Set Size\"), plt.ylabel(\"Accuracy Score\"), plt.legend(loc=\"best\")\n",
    "        plt.tight_layout()\n",
    "        plt.show()\n",
    "        \n",
    "\n",
    "    \n",
    " \n",
    "    def churned_pie(dec_clf_predict):\n",
    "        dec_tree_clf_predict_pis = pd.Series(dec_clf_predict)\n",
    "        figure_1,ax_1 = plt.subplots(1,1,figsize=(5,5))\n",
    "        display(Markdown(f\"<h3>Test Data</h3>\"))\n",
    "        ax_1.pie(pd.Series(y_test).value_counts(),labels=['Not-Churned','Churned'],autopct='%1.1f%%', shadow=True,explode=(0,0.1))\n",
    "        plt.show()\n",
    "        figure_1,ax_1 = plt.subplots(1,1,figsize=(5,5))\n",
    "        display(Markdown(f\"<h3>Predicted Data</h3>\"))\n",
    "        ax_1.pie(dec_tree_clf_predict_pis.value_counts(),labels=['Not-Churned','Churned'],autopct='%1.1f%%', shadow=True,explode=(0,0.1))\n",
    "        plt.show()        \n",
    "    def progress(count, total, status=''):\n",
    "        bar_len = 60\n",
    "        filled_len = int(round(bar_len * count / float(total)))\n",
    "\n",
    "        percents = round(100.0 * count / float(total), 1)\n",
    "        bar = '=' * filled_len + '-' * (bar_len - filled_len)\n",
    "\n",
    "        sys.stdout.write('[%s] %s%s ...%s\\r' % (bar, percents, '%', status))\n",
    "        sys.stdout.flush()\n",
    "    def classifier_fun():\n",
    "        \n",
    "        display(Markdown(\"\"\"<div class=\"alert alert-block alert-info\">\n",
    "<b>Training the model:</b>Using Customized RandomForestClassifier with randomizer parameters to achive around 80% accuracy.\n",
    "</div>\"\"\"))\n",
    "        sleep(2)\n",
    "        count_itter = 1\n",
    "        while True:\n",
    "            model = RandomForestClassifier(max_depth=random.randint(2,7),max_features=random.randint(5,13),max_leaf_nodes=None,n_estimators=200)\n",
    "            model.fit(X_train,y_train)\n",
    "            model_predict = model.predict(X_test)\n",
    "            cm = confusion_matrix(y_test,model_predict)\n",
    "        \n",
    "            \n",
    "            if  model.score(X_train,y_train)>model.score(X_test,y_test) and model.score(X_train,y_train)>0.81 and model.score(X_train,y_train) - model.score(X_test,y_test) < 0.04:\n",
    "                display(Markdown(f\"<h1>Accuracy Report</h1>\"))\n",
    "                print(\"Average Accuracy \"+str(accuracy_score(y_test,model_predict.reshape(-1,1))*100))\n",
    "                print(\"Training Accuracy \"+str(model.score(X_train,y_train)*100))  \n",
    "                print(\"Test Accuracy \"+str(model.score(X_test,y_test)*100))\n",
    "                print(\"Log_Los \"+str(log_loss(y_test,model_predict.reshape(-1,1)*100)))\n",
    "                display(Markdown(f\"<h1>Learned Parameters</h1>\"))\n",
    "                print(\"Max_depth \"+str(model.max_depth))\n",
    "                print(\"Max_leaf_nodes \"+str(model.max_leaf_nodes))\n",
    "                print(\"Max_Features \"+str(model.max_features))\n",
    "                display(Markdown(f\"<h1>Classification report</h1>\"))\n",
    "                print(classification_report(y_test,model_predict.reshape(-1,1)))\n",
    "                display(Markdown(f\"<h1>Validation Curve</h1>\"))\n",
    "                param_range = np.arange(1, model.max_depth, 1)\n",
    "                train_scores, test_scores = validation_curve(RandomForestClassifier(max_leaf_nodes=model.max_leaf_nodes,max_features=model.max_features),X,y,param_name='max_depth',param_range=param_range,cv=3,scoring=\"accuracy\",n_jobs=-1)\n",
    "# Calculate mean and standard deviation for training set scores\n",
    "                train_mean = np.mean(train_scores, axis=1)\n",
    "                train_std = np.std(train_scores, axis=1)\n",
    "\n",
    "# Calculate mean and standard deviation for test set scores\n",
    "                test_mean = np.mean(test_scores, axis=1)\n",
    "                test_std = np.std(test_scores, axis=1)\n",
    "\n",
    "# Plot mean accuracy scores for training and test sets\n",
    "                plt.plot(param_range, train_mean, label=\"Training score\", color=\"red\")\n",
    "                plt.plot(param_range, test_mean, label=\"Cross-validation score\", color=\"blue\")\n",
    "\n",
    "# Create plot\n",
    "                plt.title(\"Validation Curve With RandomForestClassifier\")\n",
    "                plt.xlabel(\"Maximum-Depth\")\n",
    "                plt.ylabel(\"Accuracy Score\")\n",
    "                plt.tight_layout()\n",
    "                plt.legend(loc=\"best\")\n",
    "                plt.show()\n",
    "                display(Markdown(f\"<h1>Confusion Matrix-Normalized</h1>\"))\n",
    "                print(\"Confusion Matrix \\n\"+str(cm))\n",
    "                skplt.metrics.plot_confusion_matrix(y_test,model_predict.reshape(-1,1),normalize=True)\n",
    "                plt.show()\n",
    "                \n",
    "                d = np.where(y_test==0, 'Not_Churned', y_test)\n",
    "                labels=np.where(y_test==1,'Churned',d)\n",
    "                class_names=labels.tolist()\n",
    "                feature_names=['CreditScore','Age','Tenure','Balance','NumOfProducts','EstimatedSalary','CRS_to_PROD','BAL_to_CRS','Female','France','Germany','IsActiveMember','HasCrCard']\n",
    "                estimator = model.estimators_[100]\n",
    "                \n",
    "                export_graphviz(estimator, out_file='tree.dot', \n",
    "                    feature_names = feature_names,\n",
    "                    class_names = class_names,\n",
    "                    rounded = True, proportion = True, \n",
    "                    precision = 2, filled = True)\n",
    "                call(['dot', '-Tpng', 'tree.dot', '-o', 'tree.png', '-Gdpi=600'])\n",
    "                display(Markdown(f\"<h1>Churned Pie After Training</h1>\"))\n",
    "                churned_pie(model_predict)\n",
    "                training_curve(model)\n",
    "               \n",
    "                \n",
    "                \n",
    "                break\n",
    "            else:\n",
    "                total = 100\n",
    "                i = 0\n",
    "                while i < total:\n",
    "                    \n",
    "                    progress(i, total, status='Learning Model,with Different parameters')\n",
    "                    sleep(0.01)\n",
    "                    i += 1   \n",
    "                print(\"\\n\")\n",
    "                print(\"Itters = \"+str(count_itter))\n",
    "                print(\"Balanced Accuracy Test \"+str(balanced_accuracy_score(y_test,model_predict.reshape(-1,1))*100))\n",
    "                print(\"Training Accuracy \"+str(model.score(X_train,y_train)*100))  \n",
    "                print(\"Test Accuracy \"+str(model.score(X_test,y_test)*100))\n",
    "                print(\"Log_Los \"+str(log_loss(y_test,model_predict.reshape(-1,1)*100)))\n",
    "                \n",
    "                count_itter+=1    \n",
    "except Exception:\n",
    "    print(\"Unexpected error: Re-try\")"
   ]
  },
  {
   "cell_type": "code",
   "execution_count": 59,
   "metadata": {
    "scrolled": true
   },
   "outputs": [
    {
     "data": {
      "text/markdown": [
       "<div class=\"alert alert-block alert-info\">\n",
       "<b>Training the model:</b>Using Customized RandomForestClassifier with randmoizer parameters to achive around 80% accuracy.\n",
       "</div>"
      ],
      "text/plain": [
       "<IPython.core.display.Markdown object>"
      ]
     },
     "metadata": {},
     "output_type": "display_data"
    },
    {
     "name": "stdout",
     "output_type": "stream",
     "text": [
      "[===========================================================-] 99.0% ...Learning Model,with Different parameters\n",
      "\n",
      "Itters = 1\n",
      "Balanced Accuracy Test 77.03742113905454\n",
      "Training Accuracy 80.71481757259866\n",
      "Test Accuracy 79.56349206349206\n",
      "Log_Los 7.058572133712295\n",
      "[===========================================================-] 99.0% ...Learning Model,with Different parameters\n",
      "\n",
      "Itters = 2\n",
      "Balanced Accuracy Test 73.78359692334284\n",
      "Training Accuracy 75.97418714321171\n",
      "Test Accuracy 76.88492063492063\n",
      "Log_Los 7.9837203097588025\n"
     ]
    },
    {
     "data": {
      "text/markdown": [
       "<h1>Accuracy Report</h1>"
      ],
      "text/plain": [
       "<IPython.core.display.Markdown object>"
      ]
     },
     "metadata": {},
     "output_type": "display_data"
    },
    {
     "name": "stdout",
     "output_type": "stream",
     "text": [
      "Average Accuracy 79.76190476190477\n",
      "Training Accuracy 81.21121866468106\n",
      "Test Accuracy 79.76190476190477\n",
      "Log_Los 6.990038055959912\n"
     ]
    },
    {
     "data": {
      "text/markdown": [
       "<h1>Learned Parameters</h1>"
      ],
      "text/plain": [
       "<IPython.core.display.Markdown object>"
      ]
     },
     "metadata": {},
     "output_type": "display_data"
    },
    {
     "name": "stdout",
     "output_type": "stream",
     "text": [
      "Max_depth 6\n",
      "Max_leaf_nodes None\n",
      "Max_Features 7\n"
     ]
    },
    {
     "data": {
      "text/markdown": [
       "<h1>Classification report</h1>"
      ],
      "text/plain": [
       "<IPython.core.display.Markdown object>"
      ]
     },
     "metadata": {},
     "output_type": "display_data"
    },
    {
     "name": "stdout",
     "output_type": "stream",
     "text": [
      "              precision    recall  f1-score   support\n",
      "\n",
      "           0       0.79      0.90      0.84       609\n",
      "           1       0.81      0.64      0.71       399\n",
      "\n",
      "    accuracy                           0.80      1008\n",
      "   macro avg       0.80      0.77      0.78      1008\n",
      "weighted avg       0.80      0.80      0.79      1008\n",
      "\n"
     ]
    },
    {
     "data": {
      "text/markdown": [
       "<h1>Validation Curve</h1>"
      ],
      "text/plain": [
       "<IPython.core.display.Markdown object>"
      ]
     },
     "metadata": {},
     "output_type": "display_data"
    },
    {
     "data": {
      "image/png": "[encoded data removed]",
      "text/plain": [
       "<Figure size 432x288 with 1 Axes>"
      ]
     },
     "metadata": {
      "needs_background": "light"
     },
     "output_type": "display_data"
    },
    {
     "data": {
      "text/markdown": [
       "<h1>Confusion Matrix-Normalized</h1>"
      ],
      "text/plain": [
       "<IPython.core.display.Markdown object>"
      ]
     },
     "metadata": {},
     "output_type": "display_data"
    },
    {
     "name": "stdout",
     "output_type": "stream",
     "text": [
      "Confusion Matrix \n",
      "[[549  60]\n",
      " [144 255]]\n"
     ]
    },
    {
     "data": {
      "image/png": "[encoded data removed]",
      "text/plain": [
       "<Figure size 432x288 with 2 Axes>"
      ]
     },
     "metadata": {
      "needs_background": "light"
     },
     "output_type": "display_data"
    },
    {
     "data": {
      "text/markdown": [
       "<h1>Churned Pie After Training</h1>"
      ],
      "text/plain": [
       "<IPython.core.display.Markdown object>"
      ]
     },
     "metadata": {},
     "output_type": "display_data"
    },
    {
     "data": {
      "text/markdown": [
       "<h3>Test Data</h3>"
      ],
      "text/plain": [
       "<IPython.core.display.Markdown object>"
      ]
     },
     "metadata": {},
     "output_type": "display_data"
    },
    {
     "data": {
      "image/png": "[encoded data removed]",
      "text/plain": [
       "<Figure size 360x360 with 1 Axes>"
      ]
     },
     "metadata": {},
     "output_type": "display_data"
    },
    {
     "data": {
      "text/markdown": [
       "<h3>Predicted Data</h3>"
      ],
      "text/plain": [
       "<IPython.core.display.Markdown object>"
      ]
     },
     "metadata": {},
     "output_type": "display_data"
    },
    {
     "data": {
      "image/png": "[encoded data removed]",
      "text/plain": [
       "<Figure size 360x360 with 1 Axes>"
      ]
     },
     "metadata": {},
     "output_type": "display_data"
    },
    {
     "data": {
      "image/png": "[encoded data removed]",
      "text/plain": [
       "<Figure size 432x288 with 1 Axes>"
      ]
     },
     "metadata": {
      "needs_background": "light"
     },
     "output_type": "display_data"
    }
   ],
   "source": [
    "classifier_fun()"
   ]
  },
  {
   "cell_type": "code",
   "execution_count": null,
   "metadata": {},
   "outputs": [],
   "source": []
  }
 ],
 "metadata": {
  "kernelspec": {
   "display_name": "Python 3",
   "language": "python",
   "name": "python3"
  },
  "language_info": {
   "codemirror_mode": {
    "name": "ipython",
    "version": 3
   },
   "file_extension": ".py",
   "mimetype": "text/x-python",
   "name": "python",
   "nbconvert_exporter": "python",
   "pygments_lexer": "ipython3",
   "version": "3.7.4"
  }
 },
 "nbformat": 4,
 "nbformat_minor": 2
}
